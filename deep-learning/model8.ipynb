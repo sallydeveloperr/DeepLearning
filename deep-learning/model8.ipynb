{
 "cells": [
  {
   "cell_type": "code",
   "execution_count": 50,
   "id": "dcd775ff",
   "metadata": {},
   "outputs": [],
   "source": [
    "# RestNet(Skip connection, Regidual Block)  잔차를 레이어에 더해준다"
   ]
  },
  {
   "cell_type": "code",
   "execution_count": 51,
   "id": "015d20df",
   "metadata": {},
   "outputs": [
    {
     "data": {
      "text/plain": [
       "(torch.Size([2, 64, 32, 32]), torch.Size([2, 3, 32, 32]))"
      ]
     },
     "execution_count": 51,
     "metadata": {},
     "output_type": "execute_result"
    }
   ],
   "source": [
    "# conv - batchn - Relu - conv -batchn \n",
    "import torch.nn as nn\n",
    "import torch\n",
    "conv1 = nn.Conv2d(3,32,kernel_size=3,padding=1)\n",
    "batch1 = nn.BatchNorm2d(32)\n",
    "relu = nn.ReLU()\n",
    "conv2 = nn.Conv2d(32,64,kernel_size=3,padding=1)\n",
    "batch2 = nn.BatchNorm2d(64)\n",
    "\n",
    "x = torch.randn(2,3,32,32)\n",
    "x_ = x  # 스킵커넥션을 위해서 초기 입력을 저장\n",
    "\n",
    "x = conv1(x)\n",
    "x = batch1(x)\n",
    "x = relu(x)\n",
    "x = conv2(x)\n",
    "x = batch2(x)\n",
    "x.size() , x_.size()"
   ]
  },
  {
   "cell_type": "code",
   "execution_count": 52,
   "id": "9d6cb13b",
   "metadata": {},
   "outputs": [
    {
     "data": {
      "text/plain": [
       "torch.Size([2, 64, 32, 32])"
      ]
     },
     "execution_count": 52,
     "metadata": {},
     "output_type": "execute_result"
    }
   ],
   "source": [
    "downsample = nn.Conv2d(3,64,kernel_size=1)\n",
    "down_x = downsample(x_)\n",
    "down_x.size()"
   ]
  },
  {
   "cell_type": "code",
   "execution_count": null,
   "id": "de9ee954",
   "metadata": {},
   "outputs": [],
   "source": [
    "import torch\n",
    "import torch.nn as nn\n",
    "class BasicBlock(nn.Module):\n",
    "    def __init__(self, in_channel,out_channel,hidden_dim):\n",
    "        super(BasicBlock, self).__init__()\n",
    "        self.conv1 = nn.Conv2d(in_channel,hidden_dim,kernel_size=3,padding=1)\n",
    "        self.conv2 = nn.Conv2d(hidden_dim,out_channel,kernel_size=3,padding=1)\n",
    "        self.batch1 = nn.BatchNorm2d(hidden_dim)\n",
    "        self.batch2 = nn.BatchNorm2d(out_channel)\n",
    "        self.relu = nn.ReLU()\n",
    "        self.downsample = nn.Conv2d(in_channel,out_channel,kernel_size=1)\n",
    "    def forward(self, x):\n",
    "        x_ = x\n",
    "        x_ = self.downsample(x_)\n",
    "\n",
    "        x = self.relu(self.batch1(self.conv1(x)))\n",
    "        x = self.batch2(self.conv2(x))        \n",
    "        x += x\n",
    "        out = self.relu(x)\n",
    "        return out"
   ]
  },
  {
   "cell_type": "code",
   "execution_count": 54,
   "id": "3a9f3530",
   "metadata": {},
   "outputs": [
    {
     "data": {
      "text/plain": [
       "torch.Size([1, 256, 32, 32])"
      ]
     },
     "execution_count": 54,
     "metadata": {},
     "output_type": "execute_result"
    }
   ],
   "source": [
    "sample = torch.randn(1,256,32,32)\n",
    "t = BasicBlock(256,256,256)\n",
    "t(sample).size() "
   ]
  },
  {
   "cell_type": "code",
   "execution_count": null,
   "id": "35789f0e",
   "metadata": {},
   "outputs": [],
   "source": [
    "class ResNet(nn.Module):\n",
    "    def __init__(self, class_num = 10):\n",
    "        super(ResNet,self).__init__()\n",
    "        self.b1 = BasicBlock(3,64,32) \n",
    "        self.b2 = BasicBlock(64,256,128)\n",
    "        self.b3 = BasicBlock(256,256,256)\n",
    "\n",
    "        self.pool = nn.AvgPool2d(2)\n",
    "\n",
    "        self.fc1 = nn.Linear(256*4*4 , 2048) \n",
    "        self.fc2 = nn.Linear(2048 , 512)\n",
    "        self.fc3 = nn.Linear(512 , class_num)\n",
    "\n",
    "        self.relu = nn.ReLU()\n",
    "        self.dropout1 = nn.Dropout(0.2)\n",
    "        self.dropout2 = nn.Dropout(0.5)\n",
    "    def forward(self,x):\n",
    "        x = self.dropout1(self.pool(self.b1(x)))\n",
    "        x = self.dropout1(self.pool(self.b2(x)))  \n",
    "        x = self.dropout2(self.pool(self.b3(x))) \n",
    "        x = torch.flatten(x, start_dim=1)             \n",
    "        x = self.relu(self.fc1(x))\n",
    "        x = self.relu(self.fc2(x))\n",
    "        out = self.fc3(x)\n",
    "\n",
    "        return out"
   ]
  },
  {
   "cell_type": "code",
   "execution_count": null,
   "id": "e6c2113d",
   "metadata": {},
   "outputs": [
    {
     "ename": "AttributeError",
     "evalue": "'ResNet' object has no attribute 'dropout'",
     "output_type": "error",
     "traceback": [
      "\u001b[31m---------------------------------------------------------------------------\u001b[39m",
      "\u001b[31mAttributeError\u001b[39m                            Traceback (most recent call last)",
      "\u001b[36mCell\u001b[39m\u001b[36m \u001b[39m\u001b[32mIn[56]\u001b[39m\u001b[32m, line 3\u001b[39m\n\u001b[32m      1\u001b[39m sample = torch.randn(\u001b[32m1\u001b[39m,\u001b[32m3\u001b[39m,\u001b[32m32\u001b[39m,\u001b[32m32\u001b[39m)\n\u001b[32m      2\u001b[39m model = ResNet(\u001b[32m2\u001b[39m)\n\u001b[32m----> \u001b[39m\u001b[32m3\u001b[39m test = \u001b[43mmodel\u001b[49m\u001b[43m(\u001b[49m\u001b[43msample\u001b[49m\u001b[43m)\u001b[49m\n\u001b[32m      4\u001b[39m test.size()\n",
      "\u001b[36mFile \u001b[39m\u001b[32mc:\\Users\\sally\\SKNPYWORKSPACE\\streamlit\\Lib\\site-packages\\torch\\nn\\modules\\module.py:1775\u001b[39m, in \u001b[36mModule._wrapped_call_impl\u001b[39m\u001b[34m(self, *args, **kwargs)\u001b[39m\n\u001b[32m   1773\u001b[39m     \u001b[38;5;28;01mreturn\u001b[39;00m \u001b[38;5;28mself\u001b[39m._compiled_call_impl(*args, **kwargs)  \u001b[38;5;66;03m# type: ignore[misc]\u001b[39;00m\n\u001b[32m   1774\u001b[39m \u001b[38;5;28;01melse\u001b[39;00m:\n\u001b[32m-> \u001b[39m\u001b[32m1775\u001b[39m     \u001b[38;5;28;01mreturn\u001b[39;00m \u001b[38;5;28;43mself\u001b[39;49m\u001b[43m.\u001b[49m\u001b[43m_call_impl\u001b[49m\u001b[43m(\u001b[49m\u001b[43m*\u001b[49m\u001b[43margs\u001b[49m\u001b[43m,\u001b[49m\u001b[43m \u001b[49m\u001b[43m*\u001b[49m\u001b[43m*\u001b[49m\u001b[43mkwargs\u001b[49m\u001b[43m)\u001b[49m\n",
      "\u001b[36mFile \u001b[39m\u001b[32mc:\\Users\\sally\\SKNPYWORKSPACE\\streamlit\\Lib\\site-packages\\torch\\nn\\modules\\module.py:1786\u001b[39m, in \u001b[36mModule._call_impl\u001b[39m\u001b[34m(self, *args, **kwargs)\u001b[39m\n\u001b[32m   1781\u001b[39m \u001b[38;5;66;03m# If we don't have any hooks, we want to skip the rest of the logic in\u001b[39;00m\n\u001b[32m   1782\u001b[39m \u001b[38;5;66;03m# this function, and just call forward.\u001b[39;00m\n\u001b[32m   1783\u001b[39m \u001b[38;5;28;01mif\u001b[39;00m \u001b[38;5;129;01mnot\u001b[39;00m (\u001b[38;5;28mself\u001b[39m._backward_hooks \u001b[38;5;129;01mor\u001b[39;00m \u001b[38;5;28mself\u001b[39m._backward_pre_hooks \u001b[38;5;129;01mor\u001b[39;00m \u001b[38;5;28mself\u001b[39m._forward_hooks \u001b[38;5;129;01mor\u001b[39;00m \u001b[38;5;28mself\u001b[39m._forward_pre_hooks\n\u001b[32m   1784\u001b[39m         \u001b[38;5;129;01mor\u001b[39;00m _global_backward_pre_hooks \u001b[38;5;129;01mor\u001b[39;00m _global_backward_hooks\n\u001b[32m   1785\u001b[39m         \u001b[38;5;129;01mor\u001b[39;00m _global_forward_hooks \u001b[38;5;129;01mor\u001b[39;00m _global_forward_pre_hooks):\n\u001b[32m-> \u001b[39m\u001b[32m1786\u001b[39m     \u001b[38;5;28;01mreturn\u001b[39;00m \u001b[43mforward_call\u001b[49m\u001b[43m(\u001b[49m\u001b[43m*\u001b[49m\u001b[43margs\u001b[49m\u001b[43m,\u001b[49m\u001b[43m \u001b[49m\u001b[43m*\u001b[49m\u001b[43m*\u001b[49m\u001b[43mkwargs\u001b[49m\u001b[43m)\u001b[49m\n\u001b[32m   1788\u001b[39m result = \u001b[38;5;28;01mNone\u001b[39;00m\n\u001b[32m   1789\u001b[39m called_always_called_hooks = \u001b[38;5;28mset\u001b[39m()\n",
      "\u001b[36mCell\u001b[39m\u001b[36m \u001b[39m\u001b[32mIn[55]\u001b[39m\u001b[32m, line 18\u001b[39m, in \u001b[36mResNet.forward\u001b[39m\u001b[34m(self, x)\u001b[39m\n\u001b[32m     17\u001b[39m \u001b[38;5;28;01mdef\u001b[39;00m\u001b[38;5;250m \u001b[39m\u001b[34mforward\u001b[39m(\u001b[38;5;28mself\u001b[39m,x):\n\u001b[32m---> \u001b[39m\u001b[32m18\u001b[39m     x = \u001b[38;5;28;43mself\u001b[39;49m\u001b[43m.\u001b[49m\u001b[43mdropout\u001b[49m(\u001b[38;5;28mself\u001b[39m.pool(\u001b[38;5;28mself\u001b[39m.b1(x)))\n\u001b[32m     19\u001b[39m     x = \u001b[38;5;28mself\u001b[39m.dropout(\u001b[38;5;28mself\u001b[39m.pool(\u001b[38;5;28mself\u001b[39m.b2(x)))\n\u001b[32m     20\u001b[39m     x = \u001b[38;5;28mself\u001b[39m.dropout(\u001b[38;5;28mself\u001b[39m.pool(\u001b[38;5;28mself\u001b[39m.b3(x)))\n",
      "\u001b[36mFile \u001b[39m\u001b[32mc:\\Users\\sally\\SKNPYWORKSPACE\\streamlit\\Lib\\site-packages\\torch\\nn\\modules\\module.py:1964\u001b[39m, in \u001b[36mModule.__getattr__\u001b[39m\u001b[34m(self, name)\u001b[39m\n\u001b[32m   1962\u001b[39m     \u001b[38;5;28;01mif\u001b[39;00m name \u001b[38;5;129;01min\u001b[39;00m modules:\n\u001b[32m   1963\u001b[39m         \u001b[38;5;28;01mreturn\u001b[39;00m modules[name]\n\u001b[32m-> \u001b[39m\u001b[32m1964\u001b[39m \u001b[38;5;28;01mraise\u001b[39;00m \u001b[38;5;167;01mAttributeError\u001b[39;00m(\n\u001b[32m   1965\u001b[39m     \u001b[33mf\u001b[39m\u001b[33m\"\u001b[39m\u001b[33m'\u001b[39m\u001b[38;5;132;01m{\u001b[39;00m\u001b[38;5;28mtype\u001b[39m(\u001b[38;5;28mself\u001b[39m).\u001b[34m__name__\u001b[39m\u001b[38;5;132;01m}\u001b[39;00m\u001b[33m'\u001b[39m\u001b[33m object has no attribute \u001b[39m\u001b[33m'\u001b[39m\u001b[38;5;132;01m{\u001b[39;00mname\u001b[38;5;132;01m}\u001b[39;00m\u001b[33m'\u001b[39m\u001b[33m\"\u001b[39m\n\u001b[32m   1966\u001b[39m )\n",
      "\u001b[31mAttributeError\u001b[39m: 'ResNet' object has no attribute 'dropout'"
     ]
    }
   ],
   "source": [
    "sample = torch.randn(1,3,32,32)\n",
    "model = ResNet(2)\n",
    "test = model(sample)\n",
    "test.size()"
   ]
  },
  {
   "cell_type": "code",
   "execution_count": null,
   "id": "3d8509c2",
   "metadata": {},
   "outputs": [],
   "source": [
    "# 데이터는 인간 - 말\n",
    "# 학습 - 평가\n",
    "\n",
    "import torch\n",
    "from torchvision import datasets, transforms\n",
    "from torch.utils.data import DataLoader\n",
    "from torch.optim import Adam\n",
    "from tqdm import tqdm\n",
    "transform = transforms.Compose([\n",
    "    transforms.Resize((32,32)),\n",
    "    transforms.ToTensor(),\n",
    "    transforms.Normalize((0.5,0.5,0.5),(0.5,0.5,0.5))\n",
    "])\n",
    "train_dataset =  datasets.ImageFolder(root = './data/train', transform=transform)\n",
    "test_dataset =  datasets.ImageFolder(root = './data/test', transform=transform)\n",
    "train_loader = DataLoader(train_dataset,batch_size=5,shuffle=True)\n",
    "test_loader = DataLoader(test_dataset,batch_size=5,shuffle=False)\n",
    "\n",
    "device = 'cuda' if torch.cuda.is_available() else 'cpu'\n",
    "model = ResNet(2)\n",
    "model.to(device)\n",
    "\n",
    "lr = 1e-3\n",
    "optim = Adam(model.parameters(), lr=lr)\n",
    "epochs = 20\n",
    "# 학습루프\n",
    "for epoch in range(epochs):\n",
    "    tqdm_obj = tqdm(train_loader,desc=f'epoch : {epoch+1}/{epochs}')\n",
    "    for data, label in tqdm_obj:\n",
    "        optim.zero_grad()\n",
    "        preds = model(data.to(device))\n",
    "        loss = nn.CrossEntropyLoss()(preds, label.to(device))\n",
    "        loss.backward()\n",
    "        optim.step()\n",
    "\n",
    "        tqdm_obj.set_postfix(loss=loss.item())\n",
    "        \n",
    "\n",
    "torch.save(model.state_dict(), 'resnet.pth')"
   ]
  },
  {
   "cell_type": "code",
   "execution_count": null,
   "id": "87950089",
   "metadata": {},
   "outputs": [],
   "source": [
    "# 평가\n",
    "model.load_state_dict(torch.load('resnet.pth',map_location=device,weights_only=True))\n",
    "# 예측\n",
    "# 평가 루프\n",
    "# test_loader가 이미 정의되어 있다고 가정\n",
    "model.eval()  # 평가 모드로 전환 (dropout, batchnorm 등 비활성화)\n",
    "total_loss = 0.0\n",
    "total_correct = 0\n",
    "total_samples = 0\n",
    "\n",
    "criterion = nn.CrossEntropyLoss()\n",
    "with torch.no_grad():  # 그래디언트 계산 비활성화\n",
    "    for data, label in tqdm(test_loader, desc=\"Evaluating\"):\n",
    "        data, label = data.to(device), label.to(device)\n",
    "        preds = model(data)\n",
    "        loss = criterion(preds, label)\n",
    "        total_loss += loss.item() * data.size(0)  # 배치 손실 합산\n",
    "        total_correct += (preds.argmax(dim=1) == label).sum().item()\n",
    "        total_samples += data.size(0)\n",
    "\n",
    "avg_loss = total_loss / total_samples\n",
    "accuracy = total_correct / total_samples\n",
    "\n",
    "print(f\"Test Loss: {avg_loss:.4f}, Test Accuracy: {accuracy:.4f}\")"
   ]
  },
  {
   "cell_type": "code",
   "execution_count": null,
   "id": "6c1c76e3",
   "metadata": {},
   "outputs": [],
   "source": [
    "model.eval()  # 평가 모드로 전환 (dropout, batchnorm 등 비활성화)\n",
    "total_loss = 0.0\n",
    "total_correct = 0\n",
    "total_samples = 0\n",
    "\n",
    "criterion = nn.CrossEntropyLoss()\n",
    "with torch.no_grad():  # 그래디언트 계산 비활성화\n",
    "    for data, label in tqdm(train_loader, desc=\"Evaluating\"):\n",
    "        data, label = data.to(device), label.to(device)\n",
    "        preds = model(data)\n",
    "        loss = criterion(preds, label)\n",
    "        total_loss += loss.item() * data.size(0)  # 배치 손실 합산\n",
    "        total_correct += (preds.argmax(dim=1) == label).sum().item()\n",
    "        total_samples += data.size(0)\n",
    "\n",
    "avg_loss = total_loss / total_samples\n",
    "accuracy = total_correct / total_samples\n",
    "\n",
    "print(f\"Test Loss: {avg_loss:.4f}, Test Accuracy: {accuracy:.4f}\")"
   ]
  },
  {
   "cell_type": "code",
   "execution_count": null,
   "id": "40e0da53",
   "metadata": {},
   "outputs": [],
   "source": [
    "import torch\n",
    "from torchvision.models.resnet import resnet50\n",
    "resnet50()"
   ]
  }
 ],
 "metadata": {
  "kernelspec": {
   "display_name": "streamlit",
   "language": "python",
   "name": "python3"
  },
  "language_info": {
   "codemirror_mode": {
    "name": "ipython",
    "version": 3
   },
   "file_extension": ".py",
   "mimetype": "text/x-python",
   "name": "python",
   "nbconvert_exporter": "python",
   "pygments_lexer": "ipython3",
   "version": "3.13.7"
  }
 },
 "nbformat": 4,
 "nbformat_minor": 5
}
