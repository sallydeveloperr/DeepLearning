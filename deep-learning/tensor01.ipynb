{
 "cells": [
  {
   "cell_type": "code",
   "execution_count": 3,
   "id": "5b1f533f",
   "metadata": {},
   "outputs": [],
   "source": [
    "# Tensor\n",
    "# 데이터를 저장하는 다차원 배열 또는 컨테이너\n",
    "# 딥러닝이 학습할때 사용하는 자료구조\n",
    "# 0차원 텐서 : 스칼라 25 - 단일 데이터\n",
    "# 1차원 텐서(벡터) : 리스트 형태  [1,2,3,4]\n",
    "# 2차원 텐서(행렬) : 행 과 열로 이루어진 데이터 표데이터, 흑백 이미지(가로픽셀 x 세로픽셀)\n",
    "# 3차원 텐서 : 컬러이미지 흑백이미지 + 채널정보(R G B)\n",
    "# 고차원 텐서 : 동영상 : 이미지개수 x 가로픽셀 x 세로픽셀 x 채널정보\n",
    "\n",
    "# 데이터의 표준 형식 : 일관된 숫자 형식\n",
    "# 효율적인 계산 : GPU 지원 병열연산에 유리\n",
    "# 딥러닝 프레임워크 : 텐서플로, 파이토치"
   ]
  },
  {
   "cell_type": "code",
   "execution_count": 4,
   "id": "ffa051e5",
   "metadata": {},
   "outputs": [
    {
     "name": "stdout",
     "output_type": "stream",
     "text": [
      "Requirement already satisfied: torch in c:\\users\\sally\\sknpyworkspace\\streamlit\\lib\\site-packages (2.9.0)\n",
      "Requirement already satisfied: torchvision in c:\\users\\sally\\sknpyworkspace\\streamlit\\lib\\site-packages (0.24.0)\n",
      "Requirement already satisfied: filelock in c:\\users\\sally\\sknpyworkspace\\streamlit\\lib\\site-packages (from torch) (3.20.0)\n",
      "Requirement already satisfied: typing-extensions>=4.10.0 in c:\\users\\sally\\sknpyworkspace\\streamlit\\lib\\site-packages (from torch) (4.14.1)\n",
      "Requirement already satisfied: sympy>=1.13.3 in c:\\users\\sally\\sknpyworkspace\\streamlit\\lib\\site-packages (from torch) (1.14.0)\n",
      "Requirement already satisfied: networkx>=2.5.1 in c:\\users\\sally\\sknpyworkspace\\streamlit\\lib\\site-packages (from torch) (3.5)\n",
      "Requirement already satisfied: jinja2 in c:\\users\\sally\\sknpyworkspace\\streamlit\\lib\\site-packages (from torch) (3.1.6)\n",
      "Requirement already satisfied: fsspec>=0.8.5 in c:\\users\\sally\\sknpyworkspace\\streamlit\\lib\\site-packages (from torch) (2025.9.0)\n",
      "Requirement already satisfied: setuptools in c:\\users\\sally\\sknpyworkspace\\streamlit\\lib\\site-packages (from torch) (80.9.0)\n",
      "Requirement already satisfied: numpy in c:\\users\\sally\\sknpyworkspace\\streamlit\\lib\\site-packages (from torchvision) (2.3.3)\n",
      "Requirement already satisfied: pillow!=8.3.*,>=5.3.0 in c:\\users\\sally\\sknpyworkspace\\streamlit\\lib\\site-packages (from torchvision) (11.3.0)\n",
      "Requirement already satisfied: mpmath<1.4,>=1.1.0 in c:\\users\\sally\\sknpyworkspace\\streamlit\\lib\\site-packages (from sympy>=1.13.3->torch) (1.3.0)\n",
      "Requirement already satisfied: MarkupSafe>=2.0 in c:\\users\\sally\\sknpyworkspace\\streamlit\\lib\\site-packages (from jinja2->torch) (3.0.2)\n",
      "Note: you may need to restart the kernel to use updated packages.\n"
     ]
    }
   ],
   "source": [
    "%pip install torch torchvision"
   ]
  },
  {
   "cell_type": "code",
   "execution_count": 5,
   "id": "05eac94a",
   "metadata": {},
   "outputs": [
    {
     "data": {
      "text/plain": [
       "tensor([[9.4778e-38, 1.6872e-42, 0.0000e+00, 0.0000e+00],\n",
       "        [0.0000e+00, 0.0000e+00, 0.0000e+00, 0.0000e+00],\n",
       "        [0.0000e+00, 0.0000e+00, 0.0000e+00, 0.0000e+00]])"
      ]
     },
     "execution_count": 5,
     "metadata": {},
     "output_type": "execute_result"
    }
   ],
   "source": [
    "# 기본연산\n",
    "import torch\n",
    "# 빈 텐서 생성\n",
    "x = torch.empty(3,4)\n",
    "x"
   ]
  },
  {
   "cell_type": "code",
   "execution_count": 6,
   "id": "45911465",
   "metadata": {},
   "outputs": [
    {
     "data": {
      "text/plain": [
       "tensor([[0.7847, 0.3611, 0.2958, 0.2748],\n",
       "        [0.6875, 0.0123, 0.3892, 0.8445],\n",
       "        [0.3218, 0.7378, 0.3130, 0.3140]])"
      ]
     },
     "execution_count": 6,
     "metadata": {},
     "output_type": "execute_result"
    }
   ],
   "source": [
    "# 랜덤 텐서\n",
    "x = torch.rand(3,4)\n",
    "x"
   ]
  },
  {
   "cell_type": "code",
   "execution_count": 7,
   "id": "ebd55adc",
   "metadata": {},
   "outputs": [
    {
     "data": {
      "text/plain": [
       "tensor([[0, 0, 0, 0],\n",
       "        [0, 0, 0, 0],\n",
       "        [0, 0, 0, 0]])"
      ]
     },
     "execution_count": 7,
     "metadata": {},
     "output_type": "execute_result"
    }
   ],
   "source": [
    "# 0으로 텐서 초기화\n",
    "torch.zeros(3,4,dtype=torch.long)"
   ]
  },
  {
   "cell_type": "code",
   "execution_count": 8,
   "id": "0805b060",
   "metadata": {},
   "outputs": [
    {
     "data": {
      "text/plain": [
       "tensor([[1, 1, 1, 1],\n",
       "        [1, 1, 1, 1],\n",
       "        [1, 1, 1, 1]])"
      ]
     },
     "execution_count": 8,
     "metadata": {},
     "output_type": "execute_result"
    }
   ],
   "source": [
    "# 1로 채워진 텐서\n",
    "x = torch.ones(3,4, dtype=torch.long)\n",
    "x"
   ]
  },
  {
   "cell_type": "code",
   "execution_count": 9,
   "id": "b8a00eb3",
   "metadata": {},
   "outputs": [
    {
     "name": "stdout",
     "output_type": "stream",
     "text": [
      "tensor([3.5000, 3.0000, 2.1000])\n",
      "[3.5 3.  2.1]\n"
     ]
    }
   ],
   "source": [
    "import numpy as np\n",
    "print( torch.tensor( [3.5,3,2.1] ) )\n",
    "print( np.array( [3.5,3,2.1] )  )"
   ]
  },
  {
   "cell_type": "code",
   "execution_count": 10,
   "id": "f655cf01",
   "metadata": {},
   "outputs": [
    {
     "data": {
      "text/plain": [
       "(tensor([[1., 1., 1., 1.],\n",
       "         [1., 1., 1., 1.],\n",
       "         [1., 1., 1., 1.]]),\n",
       " tensor([[-0.3833, -0.5095, -1.4962,  1.1209],\n",
       "         [-1.3020,  1.1520,  1.0878,  0.8906],\n",
       "         [-1.6377, -2.3603, -0.5904,  1.5153]]))"
      ]
     },
     "execution_count": 10,
     "metadata": {},
     "output_type": "execute_result"
    }
   ],
   "source": [
    "# 기존의 텐서를 기반으로 새로운 텐서 생성\n",
    "x = torch.ones(3,4)\n",
    "y = torch.randn_like(x, dtype= torch.float)\n",
    "x,  y"
   ]
  },
  {
   "cell_type": "code",
   "execution_count": 11,
   "id": "c54af404",
   "metadata": {},
   "outputs": [
    {
     "data": {
      "text/plain": [
       "(tensor([[0.2996, 0.3323, 0.1200, 0.9609],\n",
       "         [0.9046, 0.5417, 0.0606, 0.5756],\n",
       "         [0.7339, 0.9361, 0.0176, 0.1009]]),\n",
       " tensor([[0.4932, 0.6987, 0.1948, 0.0320],\n",
       "         [0.8751, 0.8992, 0.2938, 0.6570],\n",
       "         [0.1957, 0.4422, 0.9751, 0.3539]]),\n",
       " tensor([[0.7928, 1.0310, 0.3147, 0.9928],\n",
       "         [1.7798, 1.4409, 0.3544, 1.2327],\n",
       "         [0.9297, 1.3782, 0.9927, 0.4548]]))"
      ]
     },
     "execution_count": 11,
     "metadata": {},
     "output_type": "execute_result"
    }
   ],
   "source": [
    "import torch\n",
    "x = torch.rand(3,4)\n",
    "y = torch.rand(3,4)\n",
    "x ,  y, x+y"
   ]
  },
  {
   "cell_type": "code",
   "execution_count": 12,
   "id": "6badc52a",
   "metadata": {},
   "outputs": [
    {
     "data": {
      "text/plain": [
       "tensor([[0.7928, 1.0310, 0.3147, 0.9928],\n",
       "        [1.7798, 1.4409, 0.3544, 1.2327],\n",
       "        [0.9297, 1.3782, 0.9927, 0.4548]])"
      ]
     },
     "execution_count": 12,
     "metadata": {},
     "output_type": "execute_result"
    }
   ],
   "source": [
    "torch.add(x,y)"
   ]
  },
  {
   "cell_type": "code",
   "execution_count": 13,
   "id": "225d293d",
   "metadata": {},
   "outputs": [
    {
     "data": {
      "text/plain": [
       "tensor([[0.7928, 1.0310, 0.3147, 0.9928],\n",
       "        [1.7798, 1.4409, 0.3544, 1.2327],\n",
       "        [0.9297, 1.3782, 0.9927, 0.4548]])"
      ]
     },
     "execution_count": 13,
     "metadata": {},
     "output_type": "execute_result"
    }
   ],
   "source": [
    "#in-place   y = y + x   y += x\n",
    "y.add_(x)"
   ]
  },
  {
   "cell_type": "code",
   "execution_count": 14,
   "id": "90b38def",
   "metadata": {},
   "outputs": [
    {
     "data": {
      "text/plain": [
       "tensor([[0.7928, 1.0310, 0.3147, 0.9928],\n",
       "        [1.7798, 1.4409, 0.3544, 1.2327],\n",
       "        [0.9297, 1.3782, 0.9927, 0.4548]])"
      ]
     },
     "execution_count": 14,
     "metadata": {},
     "output_type": "execute_result"
    }
   ],
   "source": [
    "y"
   ]
  },
  {
   "cell_type": "code",
   "execution_count": 15,
   "id": "873e9a00",
   "metadata": {},
   "outputs": [
    {
     "data": {
      "text/plain": [
       "(tensor([[0.5070, 0.9678, 0.8382, 0.4854],\n",
       "         [0.4530, 0.5921, 0.3456, 0.5103],\n",
       "         [0.2659, 0.9277, 0.6233, 0.7622]]),\n",
       " tensor([[0.7058, 0.4409, 0.4608, 0.4610, 0.1140],\n",
       "         [0.1012, 0.5858, 0.4166, 0.5353, 0.5222],\n",
       "         [0.2655, 0.8674, 0.3198, 0.6214, 0.3344],\n",
       "         [0.6949, 0.0902, 0.1652, 0.3895, 0.9216]]),\n",
       " tensor([[1.0156, 1.5614, 0.9850, 1.4618, 1.2909],\n",
       "         [0.8261, 0.8925, 0.6502, 0.9394, 0.9468],\n",
       "         [0.9766, 1.2701, 0.8342, 1.3033, 1.4256]]),\n",
       " tensor([[1.0156, 1.5614, 0.9850, 1.4618, 1.2909],\n",
       "         [0.8261, 0.8925, 0.6502, 0.9394, 0.9468],\n",
       "         [0.9766, 1.2701, 0.8342, 1.3033, 1.4256]]))"
      ]
     },
     "execution_count": 15,
     "metadata": {},
     "output_type": "execute_result"
    }
   ],
   "source": [
    "# 행렬 곱셈 \n",
    "x = torch.rand(3,4)\n",
    "y = torch.rand(4,5)\n",
    "x, y, torch.mm(x,y),x@y # 파이썬 3.5  x@y"
   ]
  },
  {
   "cell_type": "code",
   "execution_count": 16,
   "id": "686702ff",
   "metadata": {},
   "outputs": [
    {
     "data": {
      "text/plain": [
       "(tensor(0.9188), 0.9187768697738647, torch.Tensor, float)"
      ]
     },
     "execution_count": 16,
     "metadata": {},
     "output_type": "execute_result"
    }
   ],
   "source": [
    "# 슬라이싱 가능\n",
    "x = torch.rand(4,5)\n",
    "x[1,1], x[1,1].item(), type(x[1,1]), type(x[1,1].item() )"
   ]
  }
 ],
 "metadata": {
  "kernelspec": {
   "display_name": "streamlit",
   "language": "python",
   "name": "python3"
  },
  "language_info": {
   "codemirror_mode": {
    "name": "ipython",
    "version": 3
   },
   "file_extension": ".py",
   "mimetype": "text/x-python",
   "name": "python",
   "nbconvert_exporter": "python",
   "pygments_lexer": "ipython3",
   "version": "3.13.7"
  }
 },
 "nbformat": 4,
 "nbformat_minor": 5
}
