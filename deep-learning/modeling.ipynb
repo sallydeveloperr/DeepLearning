{
 "cells": [
  {
   "cell_type": "markdown",
   "id": "99b3e894",
   "metadata": {},
   "source": [
    "##### 모델링 : 함수 찾기\n",
    "- 집의 평수를 알면 가격을 알 수 있을까?\n",
    "- Y = aX + b\n",
    "- 데이터를 잘 설명하는 직선 하나를 찾는 것이 모델링\n",
    "##### 손으로 숫자를 그린 이미지를 보고 숫자 7인지 1인지 맞출 수 있을까?\n",
    "- 아주 복잡한 결정경계를 그린다. 경계를 그려주는 함수를 찾아내는 과정\n",
    "##### ANN 인공신경망\n",
    "- 단일층 : 신경망이 하나 퍼셉트론 1x1 -> 뉴런"
   ]
  },
  {
   "cell_type": "markdown",
   "id": "fc182674",
   "metadata": {},
   "source": [
    "##### 활성화함수...\n",
    "- 계단함수 : \n",
    "- 시그모이드 : 연속적인 값을 출력 - 미분이 가능 - 오차 역전파\n",
    "- 활성화 함수가 없다... f(z) = z\n",
    "- y = (W100 x ...W1)X -> 거대한 1층짜리 선형모델\n",
    "- 초기 활성화 함수(스위치)\n",
    "    - 계단함수 if x > 0 1\n",
    "                 x <=  0\n",
    "- 시그모이드"
   ]
  },
  {
   "cell_type": "markdown",
   "id": "6df4de7b",
   "metadata": {},
   "source": [
    "##### 다층신경망 MLP 퍼셉트론을 여러개 쌓아서 올린 구조\n",
    "    - input layer : 데이터가 들어오는 곳(뉴런 수 데이터의 특성 28 x 28 = 784)\n",
    "    - hidden layer : 입력과 출력 사이에 있는 레이어"
   ]
  },
  {
   "cell_type": "markdown",
   "id": "a4e26228",
   "metadata": {},
   "source": [
    "# MNIST 데이터셋 로드 "
   ]
  }
 ],
 "metadata": {
  "language_info": {
   "name": "python"
  }
 },
 "nbformat": 4,
 "nbformat_minor": 5
}
