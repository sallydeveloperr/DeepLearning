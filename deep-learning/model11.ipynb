{
 "cells": [
  {
   "cell_type": "code",
   "execution_count": 17,
   "id": "1ecd1341",
   "metadata": {},
   "outputs": [],
   "source": [
    "# 가우스 잡음 추가 함수\n",
    "import matplotlib.pyplot as plt\n",
    "import numpy as np\n",
    "import torch\n",
    "\n",
    "from torchvision.datasets.mnist import MNIST\n",
    "from torchvision.transforms import ToTensor\n",
    "\n",
    "# 가우스 노이즈\n",
    "# noiy_pixel = original_pixel + N(u=0, e = scale)\n",
    "# 평균 = 0 : 픽셀을 전체적으로 밝히거나 어둡게 하지 않음\n",
    "# 표준편차 = sacle-> 값이 클수록 노이즈가 강해짐\n",
    "# 0.8 - > 노이즈의 양 많고.. 숫자 일부를 흐릿"
   ]
  },
  {
   "cell_type": "code",
   "execution_count": 18,
   "id": "b874644a",
   "metadata": {},
   "outputs": [],
   "source": [
    "def gaussian_noise(x, scale=0.8):\n",
    "    gaussian_data_x = x +  np.random.normal(\n",
    "        loc = 0, scale =scale, size = x.shape\n",
    "    )\n",
    "    gaussian_data_x = np.clip(gaussian_data_x,0,1)  # 이미지픽셀의 값을 0과 1사이로 정규화\n",
    "    gaussian_data_x = torch.tensor(gaussian_data_x,dtype=torch.float32)\n",
    "    return gaussian_data_x"
   ]
  },
  {
   "cell_type": "code",
   "execution_count": 19,
   "id": "46d8b333",
   "metadata": {},
   "outputs": [],
   "source": [
    "traning_data = MNIST(root='./', train=True, download=True,transform=ToTensor())\n",
    "test_data = MNIST(root='./', train=False, download=True,transform=ToTensor())"
   ]
  },
  {
   "cell_type": "code",
   "execution_count": 20,
   "id": "a5716f1e",
   "metadata": {},
   "outputs": [
    {
     "name": "stderr",
     "output_type": "stream",
     "text": [
      "C:\\Users\\sally\\AppData\\Local\\Temp\\ipykernel_32672\\2047172819.py:2: DeprecationWarning: __array_wrap__ must accept context and return_scalar arguments (positionally) in the future. (Deprecated NumPy 2.0)\n",
      "  gaussian_data_x = x +  np.random.normal(\n",
      "C:\\Users\\sally\\AppData\\Local\\Temp\\ipykernel_32672\\2047172819.py:6: UserWarning: To copy construct from a tensor, it is recommended to use sourceTensor.detach().clone() or sourceTensor.detach().clone().requires_grad_(True), rather than torch.tensor(sourceTensor).\n",
      "  gaussian_data_x = torch.tensor(gaussian_data_x,dtype=torch.float32)\n"
     ]
    },
    {
     "data": {
      "text/plain": [
       "<matplotlib.image.AxesImage at 0x22ebb76a710>"
      ]
     },
     "execution_count": 20,
     "metadata": {},
     "output_type": "execute_result"
    },
    {
     "data": {
      "image/png": "[encoded data removed]",
      "text/plain": [
       "<Figure size 640x480 with 2 Axes>"
      ]
     },
     "metadata": {},
     "output_type": "display_data"
    }
   ],
   "source": [
    "img,label = next(iter(traning_data))\n",
    "gaussian = gaussian_noise(img)\n",
    "img = img.permute(1,2,0)\n",
    "gaussian = gaussian.permute(1,2,0)\n",
    "plt.subplot(1,2,1)\n",
    "plt.imshow(img)\n",
    "plt.subplot(1,2,2)\n",
    "plt.imshow(gaussian)"
   ]
  },
  {
   "cell_type": "code",
   "execution_count": 21,
   "id": "b429c3ad",
   "metadata": {},
   "outputs": [
    {
     "name": "stdout",
     "output_type": "stream",
     "text": [
      "<class 'torch.Tensor'>\n"
     ]
    },
    {
     "name": "stderr",
     "output_type": "stream",
     "text": [
      "C:\\Users\\sally\\AppData\\Local\\Temp\\ipykernel_32672\\2047172819.py:2: DeprecationWarning: __array_wrap__ must accept context and return_scalar arguments (positionally) in the future. (Deprecated NumPy 2.0)\n",
      "  gaussian_data_x = x +  np.random.normal(\n",
      "C:\\Users\\sally\\AppData\\Local\\Temp\\ipykernel_32672\\2047172819.py:6: UserWarning: To copy construct from a tensor, it is recommended to use sourceTensor.detach().clone() or sourceTensor.detach().clone().requires_grad_(True), rather than torch.tensor(sourceTensor).\n",
      "  gaussian_data_x = torch.tensor(gaussian_data_x,dtype=torch.float32)\n"
     ]
    }
   ],
   "source": [
    "for data, label in traning_data:\n",
    "    noisy = gaussian_noise(data)\n",
    "    print(type(noisy))\n",
    "    break"
   ]
  },
  {
   "cell_type": "code",
   "execution_count": 22,
   "id": "593a4863",
   "metadata": {},
   "outputs": [],
   "source": [
    "# 학습용 데이터셋\n",
    "from torch.utils.data.dataset import Dataset\n",
    "class Denoise(Dataset):\n",
    "    def __init__(self):\n",
    "        self.mnist = MNIST(root='./', train=True, download=True,transform=ToTensor())\n",
    "        self.data = []\n",
    "        # 잡음 입히기\n",
    "        for data, label in self.mnist:\n",
    "            noisy =  gaussian_noise(data)  # 0 ~ 1사이로 맞춤\n",
    "            self.data.append(noisy.unsqueeze(0)) # (1, 1, 28, 28)\n",
    "    def __len__(self):\n",
    "        return len(self.data)\n",
    "    def __getitem__(self, index):\n",
    "        data = self.data[index]\n",
    "        label = self.mnist.data[index] / 255  # 원본이미지도 0 ~1 정규화\n",
    "        return data, label"
   ]
  },
  {
   "cell_type": "code",
   "execution_count": 23,
   "id": "74fea9ca",
   "metadata": {},
   "outputs": [],
   "source": [
    "# 합성곱 기본 블럭\n",
    "import torch.nn as nn\n",
    "# conv-relu-conv-relu\n",
    "class BasicBlock(nn.Module):\n",
    "    def __init__(self, in_channel, out_channel,hidden_channel):\n",
    "        super(BasicBlock,self).__init__()\n",
    "        self.model = nn.Sequential(\n",
    "            nn.Conv2d(in_channel, hidden_channel,kernel_size=3,padding=1),\n",
    "            nn.ReLU(),\n",
    "            nn.Conv2d(hidden_channel, out_channel,kernel_size=3,padding=1),\n",
    "            nn.ReLU()\n",
    "        )\n",
    "    def forward(self,x):\n",
    "        return self.model(x)"
   ]
  },
  {
   "cell_type": "code",
   "execution_count": 24,
   "id": "02c4d651",
   "metadata": {},
   "outputs": [
    {
     "data": {
      "text/plain": [
       "torch.Size([1, 20, 28, 28])"
      ]
     },
     "execution_count": 24,
     "metadata": {},
     "output_type": "execute_result"
    }
   ],
   "source": [
    "sample_data = torch.randn(1,1,28,28)\n",
    "sample_model = BasicBlock(1,20,10)\n",
    "sample_model(sample_data).size()"
   ]
  },
  {
   "cell_type": "code",
   "execution_count": 25,
   "id": "fade6bf3",
   "metadata": {},
   "outputs": [],
   "source": [
    "class Encoder(nn.Module):\n",
    "    def __init__(self):\n",
    "        super(Encoder,self).__init__()\n",
    "        self.conv1 = BasicBlock(1,16,16)\n",
    "        self.conv2 = BasicBlock(16,8,8)\n",
    "        self.pool = nn.AvgPool2d(2)\n",
    "    def forward(self, x):\n",
    "        x = self.pool(self.conv1) # 1,16,14,41\n",
    "        out = self.pool(self.conv2) # 1, 8,7,7\n",
    "        return out"
   ]
  },
  {
   "cell_type": "code",
   "execution_count": 26,
   "id": "ac6963f0",
   "metadata": {},
   "outputs": [],
   "source": [
    "class Decoder(nn.Module):\n",
    "    def __init__(self):\n",
    "        super(Decoder,self).__init__()\n",
    "        self.conv1 = BasicBlock(8,8,8)\n",
    "        self.conv2 = BasicBlock(8,16,16)\n",
    "        # 출력층\n",
    "        self.conv3 = nn.Conv2d(16,1,kernel_size=3,padding=1)\n",
    "\n",
    "        # 업셈플링 층\n",
    "        self.upsampling1 = nn.ConvTranspose2d(8,8,kernel_size=2, stride=2)\n",
    "        self.upsampling2 = nn.ConvTranspose2d(16,16,kernel_size=2, stride=2)\n",
    "    def forward(self,x):\n",
    "        x = self.upsampling1(self.conv1(x))\n",
    "        x = self.upsampling2(self.conv2(x))\n",
    "        out = self.conv3(x)\n",
    "        return out"
   ]
  },
  {
   "cell_type": "code",
   "execution_count": null,
   "id": "f66a86b5",
   "metadata": {},
   "outputs": [],
   "source": [
    "# CAE 오토인코더\n",
    "# 오토인코더는 인코더와 디코더를 연결하는 놈!\n",
    "# 인코더의 출력을 디코더의 입력으로 제공\n",
    "class CAE(nn.Module):\n",
    "    def __init__(self):\n",
    "        super(CAE,self).__init__() \n",
    "    def forward(self,x):\n",
    "        pass"
   ]
  }
 ],
 "metadata": {
  "kernelspec": {
   "display_name": "streamlit",
   "language": "python",
   "name": "python3"
  },
  "language_info": {
   "codemirror_mode": {
    "name": "ipython",
    "version": 3
   },
   "file_extension": ".py",
   "mimetype": "text/x-python",
   "name": "python",
   "nbconvert_exporter": "python",
   "pygments_lexer": "ipython3",
   "version": "3.13.7"
  }
 },
 "nbformat": 4,
 "nbformat_minor": 5
}
