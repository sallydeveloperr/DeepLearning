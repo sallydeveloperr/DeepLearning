{
 "cells": [
  {
   "cell_type": "markdown",
   "id": "7c5d6494",
   "metadata": {},
   "source": [
    "##### DNN CNN\n",
    "    - 독립적인 정보\n",
    "    - 입력(x)간의 순서나 연관성을 고려하지 않는다\n",
    "##### 시계열 : 시간의 연속적인 흐름\n",
    "    - 시계열 데이터 : 날씨, 주식, 문장 --> 순서가 중요한 데이터\n",
    "##### RNN\n",
    "    - 순환하는 구조\n",
    "        - 시점1(월요일) : 맑음(x1) 정보가 RNN에 들어온다 -> RNN 날씨가 맑았음(h1) 이라는 요약본을 생성\n",
    "        - 시점2(화요일) : 흐림(x2) -> RNN 새로운 정보(흐림, x2) + 어제의 기억(맑았음, h1) 함께 고려해서 어제 맑았는데 오늘 흐림 h2라는 새로운 요약본을 생성\n",
    "        - 시점3(수요일) : 비(x3) -> RNN 새로운 정보(비, x3)와 어제의 기억(h2)을 함께 고려해서\n",
    "        새로운 상태 h3\n",
    "        - 계속 반복\n",
    "    - 알고리즘\n",
    "        - 각 시점(time step)에서 1. 현재의 입력과 2. 과거의 기억(hidden state ht-1) 받아서 3.3. 현재의 결과물과 4. 다음 시점으로 넘겨줄 최신기억 ht를 생성\n",
    "        - ht 기억이 시계열 데이터의 맥락(context)을 저장하는 역할\n",
    "    - 장점\n",
    "        - 순서가 있는 데이터의 맥락을 학습한다.\n",
    "        - 입출력의 길이에 유연하게 대처한다.\n",
    "    - 한계\n",
    "        - 기억력이 생각보다 짧다.\n",
    "        - 시계열 데이터가 길어지면(예. 100단계 전의 정보)\n",
    "        - 이전 정보가 소실(Vanishing Gradient)되거나 반대로 너무 강해져서 폭주(Exploding Gradient)가 돼서 제대로 학습이 안된다.\n",
    "        - 장기 기억 의존성 문제(long-term dependency problem)\n",
    "##### LSTM & GRU\n",
    "    - LSTM(Long Short-Term Memory) : RNN 내부에 게이트(Gate)라는 복잡한 장치 -> 잊고 기억할 정보를 관리\n",
    "    - GRU(Gated Recurrent Unit) : LSTM 구조를 좀 더 단순화시킨 모델, LSTM 성능은 비슷, 속도는 빠르다.\n",
    "##### RNN 핵심수식\n",
    "    - 은닉 상태 계산\n",
    "        - h1 = tanh(wxht-1 + wxt - bh)\n",
    "    - 출력계산"
   ]
  },
  {
   "cell_type": "code",
   "execution_count": 33,
   "id": "9b3145a2",
   "metadata": {},
   "outputs": [
    {
     "data": {
      "text/html": [
       "<div>\n",
       "<style scoped>\n",
       "    .dataframe tbody tr th:only-of-type {\n",
       "        vertical-align: middle;\n",
       "    }\n",
       "\n",
       "    .dataframe tbody tr th {\n",
       "        vertical-align: top;\n",
       "    }\n",
       "\n",
       "    .dataframe thead th {\n",
       "        text-align: right;\n",
       "    }\n",
       "</style>\n",
       "<table border=\"1\" class=\"dataframe\">\n",
       "  <thead>\n",
       "    <tr style=\"text-align: right;\">\n",
       "      <th></th>\n",
       "      <th>Date</th>\n",
       "      <th>Open</th>\n",
       "      <th>High</th>\n",
       "      <th>Low</th>\n",
       "      <th>Volume</th>\n",
       "      <th>Close</th>\n",
       "    </tr>\n",
       "  </thead>\n",
       "  <tbody>\n",
       "    <tr>\n",
       "      <th>0</th>\n",
       "      <td>2015-12-16</td>\n",
       "      <td>120</td>\n",
       "      <td>123</td>\n",
       "      <td>118</td>\n",
       "      <td>13181000</td>\n",
       "      <td>123</td>\n",
       "    </tr>\n",
       "    <tr>\n",
       "      <th>1</th>\n",
       "      <td>2015-12-17</td>\n",
       "      <td>124</td>\n",
       "      <td>126</td>\n",
       "      <td>122</td>\n",
       "      <td>17284900</td>\n",
       "      <td>123</td>\n",
       "    </tr>\n",
       "    <tr>\n",
       "      <th>2</th>\n",
       "      <td>2015-12-18</td>\n",
       "      <td>121</td>\n",
       "      <td>122</td>\n",
       "      <td>118</td>\n",
       "      <td>17948100</td>\n",
       "      <td>118</td>\n",
       "    </tr>\n",
       "    <tr>\n",
       "      <th>3</th>\n",
       "      <td>2015-12-21</td>\n",
       "      <td>120</td>\n",
       "      <td>120</td>\n",
       "      <td>116</td>\n",
       "      <td>11670000</td>\n",
       "      <td>117</td>\n",
       "    </tr>\n",
       "    <tr>\n",
       "      <th>4</th>\n",
       "      <td>2015-12-22</td>\n",
       "      <td>117</td>\n",
       "      <td>117</td>\n",
       "      <td>115</td>\n",
       "      <td>9689000</td>\n",
       "      <td>116</td>\n",
       "    </tr>\n",
       "  </tbody>\n",
       "</table>\n",
       "</div>"
      ],
      "text/plain": [
       "         Date  Open  High  Low    Volume  Close\n",
       "0  2015-12-16   120   123  118  13181000    123\n",
       "1  2015-12-17   124   126  122  17284900    123\n",
       "2  2015-12-18   121   122  118  17948100    118\n",
       "3  2015-12-21   120   120  116  11670000    117\n",
       "4  2015-12-22   117   117  115   9689000    116"
      ]
     },
     "execution_count": 33,
     "metadata": {},
     "output_type": "execute_result"
    }
   ],
   "source": [
    "url = 'https://raw.githubusercontent.com/pia222sk20/python/refs/heads/main/data/time_data_train.csv'\n",
    "import pandas as pd\n",
    "df = pd.read_csv(url)\n",
    "df.head()"
   ]
  },
  {
   "cell_type": "code",
   "execution_count": 34,
   "id": "9276f7da",
   "metadata": {},
   "outputs": [
    {
     "name": "stdout",
     "output_type": "stream",
     "text": [
      "<class 'pandas.core.frame.DataFrame'>\n",
      "RangeIndex: 967 entries, 0 to 966\n",
      "Data columns (total 6 columns):\n",
      " #   Column  Non-Null Count  Dtype \n",
      "---  ------  --------------  ----- \n",
      " 0   Date    967 non-null    object\n",
      " 1   Open    967 non-null    int64 \n",
      " 2   High    967 non-null    int64 \n",
      " 3   Low     967 non-null    int64 \n",
      " 4   Volume  967 non-null    int64 \n",
      " 5   Close   967 non-null    int64 \n",
      "dtypes: int64(5), object(1)\n",
      "memory usage: 45.5+ KB\n"
     ]
    }
   ],
   "source": [
    "# 전체 데이터셋 확인\n",
    "df.info()"
   ]
  },
  {
   "cell_type": "code",
   "execution_count": 35,
   "id": "276ca82b",
   "metadata": {},
   "outputs": [],
   "source": [
    "# EDA - 탐색적 데이터 분석"
   ]
  },
  {
   "cell_type": "code",
   "execution_count": 36,
   "id": "8d2f37ac",
   "metadata": {},
   "outputs": [],
   "source": [
    "# 데이터셋 정의\n",
    "import torch\n",
    "import numpy as np\n",
    "from torch.utils.data.dataset import Dataset\n",
    "import pandas as pd\n",
    "from sklearn.preprocessing import StandardScaler\n",
    "class StockDataSet(Dataset):\n",
    "    def __init__(self):\n",
    "        url = 'https://raw.githubusercontent.com/pia222sk20/python/refs/heads/main/data/time_data_train.csv'\n",
    "        self.csv = pd.read_csv(url)\n",
    "        data = self.csv.iloc[:,1:-1].values\n",
    "        label = self.csv.iloc[:,-1].values.reshape(-1,1)\n",
    "        self.data = StandardScaler().fit_transform(data)\n",
    "        \n",
    "        # 정답이 숫자 크다면 정규화가 학습에 도움이 된다.\n",
    "        self.label = StandardScaler().fit_transform(label)\n",
    "        self.data = torch.Tensor(self.data)\n",
    "        self.label = torch.Tensor(self.label)\n",
    "    def __len__(self):\n",
    "        return len(self.data) - 30  #사용가능한 배치 갯수\n",
    "    def __getitem__(self, index):\n",
    "        data = self.data[index: index + 30]\n",
    "        label = self.label[index + 30]\n",
    "        return data, label"
   ]
  },
  {
   "cell_type": "code",
   "execution_count": 37,
   "id": "a06bcd48",
   "metadata": {},
   "outputs": [
    {
     "data": {
      "text/plain": [
       "(torch.Size([30, 4]), torch.Size([1]))"
      ]
     },
     "execution_count": 37,
     "metadata": {},
     "output_type": "execute_result"
    }
   ],
   "source": [
    "data, label = next(iter(StockDataSet()))\n",
    "data.size(), label.size()"
   ]
  },
  {
   "cell_type": "code",
   "execution_count": 38,
   "id": "0897d5c9",
   "metadata": {},
   "outputs": [],
   "source": [
    "import torch.nn as nn\n",
    "class StockRNN(nn.Module):\n",
    "    def __init__(self):\n",
    "        super(StockRNN, self).__init__()\n",
    "        self.rnn = nn.RNN(input_size=4, hidden_size=8, num_layers=5,batch_first=True)\n",
    "        self.fc1 = nn.Linear(30*8,64)\n",
    "        self.fc2 = nn.Linear(64,1)\n",
    "        self.relu = nn.ReLU()\n",
    "    def forward(self,x,ho):     #입력데이터는 (16,30,4)\n",
    "        # ho는 초기 은닉상태\n",
    "        # 출력 x는 모든 시점에 대한 hidden output을 담고 있어야..\n",
    "        # 출력 hn 최종은닉상태 (각 레이어의 마지막 타임 스탬프 hidden state)\n",
    "        x,hn = self.rnn(x,ho)\n",
    "        #mlp 입력으로 사용될 수 있도록 모양 변경\n",
    "        x = torch.reshape(x,(x.shape[0],-1))\n",
    "        #mlp\n",
    "        x = self.relu(self.fc1(x))\n",
    "        x = self.fc2(x)\n",
    "        #예측한 종가 1차원 벡터\n",
    "        out = torch.flatten(x)\n",
    "        return out"
   ]
  },
  {
   "cell_type": "code",
   "execution_count": 39,
   "id": "a55e5fd9",
   "metadata": {},
   "outputs": [
    {
     "data": {
      "text/plain": [
       "torch.Size([16])"
      ]
     },
     "execution_count": 39,
     "metadata": {},
     "output_type": "execute_result"
    }
   ],
   "source": [
    "rnn = StockRNN()\n",
    "sample_data = torch.randn(16,30,4)\n",
    "# 초기 hidden state 값(num_layer, batch_size, hidden_size) (5,16,8)\n",
    "ho = torch.zeros(5,16,8)\n",
    "out = rnn(sample_data,ho)\n",
    "out.size()"
   ]
  },
  {
   "cell_type": "code",
   "execution_count": 40,
   "id": "3a6ff6c0",
   "metadata": {},
   "outputs": [],
   "source": [
    "from torch.optim.adam import Adam\n",
    "from torch.utils.data.dataloader import DataLoader\n",
    "device = 'cuda' if torch.cuda.is_available() else 'cpu'\n",
    "model = StockRNN().to(device)\n",
    "dataset = StockDataSet()\n",
    "loader = DataLoader(dataset, batch_size=16)\n",
    "optim = Adam(model.parameters(), lr = 1e-3)"
   ]
  },
  {
   "cell_type": "code",
   "execution_count": 41,
   "id": "6019b7ef",
   "metadata": {},
   "outputs": [
    {
     "data": {
      "text/plain": [
       "(torch.float32, torch.float32)"
      ]
     },
     "execution_count": 41,
     "metadata": {},
     "output_type": "execute_result"
    }
   ],
   "source": [
    "data,label = next(iter(loader))\n",
    "data.dtype, label.dtype"
   ]
  },
  {
   "cell_type": "code",
   "execution_count": 42,
   "id": "f98c39fd",
   "metadata": {},
   "outputs": [
    {
     "name": "stdout",
     "output_type": "stream",
     "text": [
      "12\n"
     ]
    }
   ],
   "source": [
    "# Expected hidden size (5, 9, 8), got [5, 16, 8]\n",
    "# Rnn이 처리하는 배치크기는 9  우리가 설계한 ho 16\n",
    "print(len(dataset) % 25)\n",
    "# 마지막 배치가 개수가 모라자서 9"
   ]
  },
  {
   "cell_type": "code",
   "execution_count": 43,
   "id": "bc70db67",
   "metadata": {},
   "outputs": [
    {
     "name": "stderr",
     "output_type": "stream",
     "text": [
      "  0%|          | 0/59 [00:00<?, ?it/s]c:\\Users\\sally\\SKNPYWORKSPACE\\streamlit\\Lib\\site-packages\\torch\\nn\\modules\\loss.py:634: UserWarning: Using a target size (torch.Size([16, 1])) that is different to the input size (torch.Size([16])). This will likely lead to incorrect results due to broadcasting. Please ensure they have the same size.\n",
      "  return F.mse_loss(input, target, reduction=self.reduction)\n",
      "epoch:1 loss:0.2942065894603729:  83%|████████▎ | 49/59 [00:00<00:00, 96.90it/s]   c:\\Users\\sally\\SKNPYWORKSPACE\\streamlit\\Lib\\site-packages\\torch\\nn\\modules\\loss.py:634: UserWarning: Using a target size (torch.Size([9, 1])) that is different to the input size (torch.Size([9])). This will likely lead to incorrect results due to broadcasting. Please ensure they have the same size.\n",
      "  return F.mse_loss(input, target, reduction=self.reduction)\n",
      "epoch:1 loss:0.2537175714969635: 100%|██████████| 59/59 [00:00<00:00, 94.35it/s]\n",
      "epoch:2 loss:0.5475544929504395: 100%|██████████| 59/59 [00:00<00:00, 70.28it/s]  \n",
      "epoch:3 loss:0.30059173703193665: 100%|██████████| 59/59 [00:00<00:00, 63.76it/s]  \n",
      "epoch:4 loss:0.526803195476532: 100%|██████████| 59/59 [00:01<00:00, 52.72it/s]   \n",
      "epoch:5 loss:0.48098018765449524: 100%|██████████| 59/59 [00:08<00:00,  6.64it/s]  \n",
      "epoch:6 loss:0.4229528605937958: 100%|██████████| 59/59 [00:06<00:00,  9.54it/s]   \n",
      "epoch:7 loss:0.32408633828163147: 100%|██████████| 59/59 [00:07<00:00,  8.37it/s]  \n",
      "epoch:8 loss:0.3368808329105377: 100%|██████████| 59/59 [00:03<00:00, 15.20it/s]    \n",
      "epoch:9 loss:0.2931967079639435: 100%|██████████| 59/59 [00:03<00:00, 16.34it/s]   \n",
      "epoch:10 loss:0.2752525806427002: 100%|██████████| 59/59 [00:03<00:00, 14.94it/s]   \n",
      "epoch:11 loss:0.27571019530296326: 100%|██████████| 59/59 [00:02<00:00, 23.37it/s]  \n",
      "epoch:12 loss:0.2733558714389801: 100%|██████████| 59/59 [00:02<00:00, 25.47it/s]   \n",
      "epoch:13 loss:0.2646019458770752: 100%|██████████| 59/59 [00:01<00:00, 30.76it/s]   \n",
      "epoch:14 loss:0.25199320912361145: 100%|██████████| 59/59 [00:02<00:00, 20.58it/s]  \n",
      "epoch:15 loss:0.23786215484142303: 100%|██████████| 59/59 [00:03<00:00, 18.06it/s]  \n",
      "epoch:16 loss:0.22397734224796295: 100%|██████████| 59/59 [00:02<00:00, 21.64it/s]  \n",
      "epoch:17 loss:0.21025072038173676: 100%|██████████| 59/59 [00:02<00:00, 22.65it/s]  \n",
      "epoch:18 loss:0.19754888117313385: 100%|██████████| 59/59 [00:02<00:00, 22.65it/s]  \n",
      "epoch:19 loss:0.18515761196613312: 100%|██████████| 59/59 [00:07<00:00,  8.26it/s]  \n",
      "epoch:20 loss:0.1722581833600998: 100%|██████████| 59/59 [00:07<00:00,  7.86it/s]   \n",
      "epoch:21 loss:0.1598587930202484: 100%|██████████| 59/59 [00:04<00:00, 13.55it/s]   \n",
      "epoch:22 loss:0.14758338034152985: 100%|██████████| 59/59 [00:03<00:00, 16.99it/s]  \n",
      "epoch:23 loss:0.13584701716899872: 100%|██████████| 59/59 [00:02<00:00, 21.03it/s]  \n",
      "epoch:24 loss:0.12234160304069519: 100%|██████████| 59/59 [00:02<00:00, 19.83it/s]  \n",
      "epoch:25 loss:0.11554709821939468: 100%|██████████| 59/59 [00:08<00:00,  7.21it/s]  \n",
      "epoch:26 loss:0.10277743637561798: 100%|██████████| 59/59 [00:15<00:00,  3.81it/s]  \n",
      "epoch:27 loss:0.0928359180688858: 100%|██████████| 59/59 [00:03<00:00, 17.62it/s]   \n",
      "epoch:28 loss:0.08311725407838821: 100%|██████████| 59/59 [00:02<00:00, 27.21it/s]  \n",
      "epoch:29 loss:0.07429812848567963: 100%|██████████| 59/59 [00:03<00:00, 17.11it/s]  \n",
      "epoch:30 loss:0.065965935587883: 100%|██████████| 59/59 [00:05<00:00, 10.12it/s]    \n",
      "epoch:31 loss:0.05759497731924057: 100%|██████████| 59/59 [00:06<00:00,  9.25it/s]  \n",
      "epoch:32 loss:0.049727194011211395: 100%|██████████| 59/59 [00:06<00:00,  9.27it/s] \n",
      "epoch:33 loss:0.04261773079633713: 100%|██████████| 59/59 [00:15<00:00,  3.83it/s]  \n",
      "epoch:34 loss:0.035658352077007294: 100%|██████████| 59/59 [00:09<00:00,  6.22it/s] \n",
      "epoch:35 loss:0.028400471433997154: 100%|██████████| 59/59 [00:05<00:00, 11.55it/s] \n",
      "epoch:36 loss:0.02290702797472477: 100%|██████████| 59/59 [00:04<00:00, 12.01it/s]  \n",
      "epoch:37 loss:0.018284138292074203: 100%|██████████| 59/59 [00:04<00:00, 12.57it/s]\n",
      "epoch:38 loss:0.015135643072426319: 100%|██████████| 59/59 [00:03<00:00, 15.41it/s] \n",
      "epoch:39 loss:0.013258381746709347: 100%|██████████| 59/59 [00:05<00:00, 11.77it/s] \n",
      "epoch:40 loss:0.01307940948754549: 100%|██████████| 59/59 [00:04<00:00, 13.47it/s]  \n",
      "epoch:41 loss:0.013030746951699257: 100%|██████████| 59/59 [00:02<00:00, 22.42it/s] \n",
      "epoch:42 loss:0.013700498268008232: 100%|██████████| 59/59 [00:04<00:00, 14.71it/s] \n",
      "epoch:43 loss:0.014627187512814999: 100%|██████████| 59/59 [00:05<00:00, 10.26it/s] \n",
      "epoch:44 loss:0.012154363095760345: 100%|██████████| 59/59 [00:05<00:00, 10.10it/s] \n",
      "epoch:45 loss:0.012067404575645924: 100%|██████████| 59/59 [00:05<00:00, 11.17it/s] \n",
      "epoch:46 loss:0.009779524989426136: 100%|██████████| 59/59 [00:05<00:00, 10.84it/s] \n",
      "epoch:47 loss:0.010158264078199863: 100%|██████████| 59/59 [00:06<00:00,  9.72it/s] \n",
      "epoch:48 loss:0.009289522655308247: 100%|██████████| 59/59 [00:03<00:00, 15.05it/s] \n",
      "epoch:49 loss:0.009357083588838577: 100%|██████████| 59/59 [00:04<00:00, 14.07it/s] \n",
      "epoch:50 loss:0.008510231971740723: 100%|██████████| 59/59 [00:03<00:00, 16.64it/s] \n",
      "epoch:51 loss:0.00840379111468792: 100%|██████████| 59/59 [00:03<00:00, 16.27it/s]  \n",
      "epoch:52 loss:0.008136779069900513: 100%|██████████| 59/59 [00:03<00:00, 17.73it/s] \n",
      "epoch:53 loss:0.007303363643586636: 100%|██████████| 59/59 [00:03<00:00, 15.19it/s] \n",
      "epoch:54 loss:0.006781523581594229: 100%|██████████| 59/59 [00:06<00:00,  9.02it/s] \n",
      "epoch:55 loss:0.007438804022967815: 100%|██████████| 59/59 [00:07<00:00,  7.97it/s] \n",
      "epoch:56 loss:0.00741740083321929: 100%|██████████| 59/59 [00:03<00:00, 14.76it/s]  \n",
      "epoch:57 loss:0.007867131382226944: 100%|██████████| 59/59 [00:03<00:00, 15.86it/s] \n",
      "epoch:58 loss:0.007432029582560062: 100%|██████████| 59/59 [00:03<00:00, 15.93it/s] \n",
      "epoch:59 loss:0.008442522026598454: 100%|██████████| 59/59 [00:03<00:00, 18.02it/s] \n",
      "epoch:60 loss:0.007519911974668503: 100%|██████████| 59/59 [00:03<00:00, 18.75it/s] \n",
      "epoch:61 loss:0.008715111762285233: 100%|██████████| 59/59 [00:03<00:00, 16.55it/s] \n",
      "epoch:62 loss:0.006977544166147709: 100%|██████████| 59/59 [00:03<00:00, 15.82it/s] \n",
      "epoch:63 loss:0.008901496417820454: 100%|██████████| 59/59 [00:03<00:00, 16.53it/s] \n",
      "epoch:64 loss:0.007173738442361355: 100%|██████████| 59/59 [00:03<00:00, 16.84it/s] \n",
      "epoch:65 loss:0.009511132724583149: 100%|██████████| 59/59 [00:03<00:00, 17.05it/s] \n",
      "epoch:66 loss:0.007372511085122824: 100%|██████████| 59/59 [00:04<00:00, 12.59it/s] \n",
      "epoch:67 loss:0.009408829733729362: 100%|██████████| 59/59 [00:03<00:00, 15.12it/s] \n",
      "epoch:68 loss:0.007361171301454306: 100%|██████████| 59/59 [00:04<00:00, 14.11it/s] \n",
      "epoch:69 loss:0.008739497512578964: 100%|██████████| 59/59 [00:03<00:00, 15.68it/s] \n",
      "epoch:70 loss:0.007006325758993626: 100%|██████████| 59/59 [00:03<00:00, 15.91it/s] \n",
      "epoch:71 loss:0.00948342401534319: 100%|██████████| 59/59 [00:03<00:00, 16.91it/s]  \n",
      "epoch:72 loss:0.007678463123738766: 100%|██████████| 59/59 [00:03<00:00, 15.47it/s] \n",
      "epoch:73 loss:0.009619838558137417: 100%|██████████| 59/59 [00:03<00:00, 16.62it/s] \n",
      "epoch:74 loss:0.007389342412352562: 100%|██████████| 59/59 [00:03<00:00, 15.65it/s] \n",
      "epoch:75 loss:0.010137122124433517: 100%|██████████| 59/59 [00:04<00:00, 13.63it/s] \n",
      "epoch:76 loss:0.007707532495260239: 100%|██████████| 59/59 [00:03<00:00, 15.55it/s] \n",
      "epoch:77 loss:0.011157532222568989: 100%|██████████| 59/59 [00:03<00:00, 17.11it/s] \n",
      "epoch:78 loss:0.006563103292137384: 100%|██████████| 59/59 [00:03<00:00, 16.22it/s] \n",
      "epoch:79 loss:0.01177296694368124: 100%|██████████| 59/59 [00:04<00:00, 14.64it/s]  \n",
      "epoch:80 loss:0.00827411562204361: 100%|██████████| 59/59 [00:03<00:00, 17.99it/s]  \n",
      "epoch:81 loss:0.011531445197761059: 100%|██████████| 59/59 [00:03<00:00, 15.15it/s] \n",
      "epoch:82 loss:0.010509345680475235: 100%|██████████| 59/59 [00:03<00:00, 16.62it/s] \n",
      "epoch:83 loss:0.009726893156766891: 100%|██████████| 59/59 [00:03<00:00, 15.79it/s] \n",
      "epoch:84 loss:0.014287018217146397: 100%|██████████| 59/59 [00:03<00:00, 16.19it/s] \n",
      "epoch:85 loss:0.006759577430784702: 100%|██████████| 59/59 [00:03<00:00, 16.13it/s] \n",
      "epoch:86 loss:0.007682096678763628: 100%|██████████| 59/59 [00:03<00:00, 14.96it/s] \n",
      "epoch:87 loss:0.008668347261846066: 100%|██████████| 59/59 [00:04<00:00, 14.59it/s] \n",
      "epoch:88 loss:0.008220761083066463: 100%|██████████| 59/59 [00:04<00:00, 13.09it/s] \n",
      "epoch:89 loss:0.012641056440770626: 100%|██████████| 59/59 [00:03<00:00, 16.04it/s] \n",
      "epoch:90 loss:0.008791017346084118: 100%|██████████| 59/59 [00:03<00:00, 14.98it/s] \n",
      "epoch:91 loss:0.011752026155591011: 100%|██████████| 59/59 [00:03<00:00, 16.21it/s] \n",
      "epoch:92 loss:0.007658250629901886: 100%|██████████| 59/59 [00:03<00:00, 17.41it/s] \n",
      "epoch:93 loss:0.019750578328967094: 100%|██████████| 59/59 [00:03<00:00, 19.04it/s] \n",
      "epoch:94 loss:0.007051749620586634: 100%|██████████| 59/59 [00:03<00:00, 17.66it/s] \n",
      "epoch:95 loss:0.01582876779139042: 100%|██████████| 59/59 [00:03<00:00, 15.21it/s]  \n",
      "epoch:96 loss:0.011759815737605095: 100%|██████████| 59/59 [00:03<00:00, 17.11it/s]\n",
      "epoch:97 loss:0.01612737774848938: 100%|██████████| 59/59 [00:04<00:00, 14.00it/s]  \n",
      "epoch:98 loss:0.011707180179655552: 100%|██████████| 59/59 [00:03<00:00, 16.37it/s] \n",
      "epoch:99 loss:0.009676040150225163: 100%|██████████| 59/59 [00:04<00:00, 12.80it/s] \n",
      "epoch:100 loss:0.01015319861471653: 100%|██████████| 59/59 [00:04<00:00, 11.84it/s]  \n",
      "epoch:101 loss:0.00804473552852869: 100%|██████████| 59/59 [00:04<00:00, 12.27it/s]  \n",
      "epoch:102 loss:0.009297839365899563: 100%|██████████| 59/59 [00:04<00:00, 14.48it/s] \n",
      "epoch:103 loss:0.009410673752427101: 100%|██████████| 59/59 [00:05<00:00, 10.21it/s] \n",
      "epoch:104 loss:0.011405075900256634: 100%|██████████| 59/59 [00:06<00:00,  8.90it/s] \n",
      "epoch:105 loss:0.011412779800593853: 100%|██████████| 59/59 [00:03<00:00, 18.16it/s] \n",
      "epoch:106 loss:0.009580546990036964: 100%|██████████| 59/59 [00:03<00:00, 15.56it/s] \n",
      "epoch:107 loss:0.008372567594051361: 100%|██████████| 59/59 [00:04<00:00, 12.85it/s] \n",
      "epoch:108 loss:0.006865180563181639: 100%|██████████| 59/59 [00:03<00:00, 16.29it/s] \n",
      "epoch:109 loss:0.007262502796947956: 100%|██████████| 59/59 [00:03<00:00, 16.47it/s] \n",
      "epoch:110 loss:0.008299198001623154: 100%|██████████| 59/59 [00:03<00:00, 17.55it/s] \n",
      "epoch:111 loss:0.008468037471175194: 100%|██████████| 59/59 [00:03<00:00, 16.34it/s] \n",
      "epoch:112 loss:0.008708766661584377: 100%|██████████| 59/59 [00:04<00:00, 14.12it/s] \n",
      "epoch:113 loss:0.008704951964318752: 100%|██████████| 59/59 [00:03<00:00, 16.70it/s] \n",
      "epoch:114 loss:0.007960979826748371: 100%|██████████| 59/59 [00:03<00:00, 17.85it/s] \n",
      "epoch:115 loss:0.007249428890645504: 100%|██████████| 59/59 [00:03<00:00, 15.39it/s] \n",
      "epoch:116 loss:0.007541321683675051: 100%|██████████| 59/59 [00:04<00:00, 12.35it/s] \n",
      "epoch:117 loss:0.007251778617501259: 100%|██████████| 59/59 [00:03<00:00, 14.96it/s] \n",
      "epoch:118 loss:0.008600890636444092: 100%|██████████| 59/59 [00:04<00:00, 14.16it/s] \n",
      "epoch:119 loss:0.008229777216911316: 100%|██████████| 59/59 [00:03<00:00, 14.91it/s] \n",
      "epoch:120 loss:0.006453505251556635: 100%|██████████| 59/59 [00:04<00:00, 14.02it/s] \n",
      "epoch:121 loss:0.006030271295458078: 100%|██████████| 59/59 [00:03<00:00, 16.44it/s] \n",
      "epoch:122 loss:0.006522509269416332: 100%|██████████| 59/59 [00:03<00:00, 15.73it/s] \n",
      "epoch:123 loss:0.006704974919557571: 100%|██████████| 59/59 [00:03<00:00, 16.47it/s] \n",
      "epoch:124 loss:0.0075117070227861404: 100%|██████████| 59/59 [00:03<00:00, 15.55it/s]\n",
      "epoch:125 loss:0.007405559066683054: 100%|██████████| 59/59 [00:03<00:00, 16.36it/s] \n",
      "epoch:126 loss:0.006614049430936575: 100%|██████████| 59/59 [00:06<00:00,  9.38it/s] \n",
      "epoch:127 loss:0.0060645947232842445: 100%|██████████| 59/59 [00:05<00:00, 10.05it/s]\n",
      "epoch:128 loss:0.006930545438081026: 100%|██████████| 59/59 [00:06<00:00,  8.61it/s] \n",
      "epoch:129 loss:0.006401169579476118: 100%|██████████| 59/59 [00:04<00:00, 13.51it/s] \n",
      "epoch:130 loss:0.00939803197979927: 100%|██████████| 59/59 [00:04<00:00, 13.39it/s]  \n",
      "epoch:131 loss:0.008364608511328697: 100%|██████████| 59/59 [00:04<00:00, 12.22it/s] \n",
      "epoch:132 loss:0.009606135077774525: 100%|██████████| 59/59 [00:04<00:00, 12.40it/s] \n",
      "epoch:133 loss:0.006013156846165657: 100%|██████████| 59/59 [00:03<00:00, 17.77it/s] \n",
      "epoch:134 loss:0.006599367596209049: 100%|██████████| 59/59 [00:02<00:00, 21.04it/s] \n",
      "epoch:135 loss:0.011917156167328358: 100%|██████████| 59/59 [00:03<00:00, 18.12it/s] \n",
      "epoch:136 loss:0.01080078724771738: 100%|██████████| 59/59 [00:03<00:00, 16.80it/s]  \n",
      "epoch:137 loss:0.022512100636959076: 100%|██████████| 59/59 [00:03<00:00, 15.77it/s] \n",
      "epoch:138 loss:0.006549551151692867: 100%|██████████| 59/59 [00:03<00:00, 16.25it/s] \n",
      "epoch:139 loss:0.018819566816091537: 100%|██████████| 59/59 [00:04<00:00, 13.50it/s] \n",
      "epoch:140 loss:0.013334221206605434: 100%|██████████| 59/59 [00:03<00:00, 19.36it/s] \n",
      "epoch:141 loss:0.02286924049258232: 100%|██████████| 59/59 [00:02<00:00, 28.21it/s]  \n",
      "epoch:142 loss:0.012858312577009201: 100%|██████████| 59/59 [00:02<00:00, 25.69it/s] \n",
      "epoch:143 loss:0.026300344616174698: 100%|██████████| 59/59 [00:02<00:00, 23.62it/s] \n",
      "epoch:144 loss:0.017309660091996193: 100%|██████████| 59/59 [00:02<00:00, 23.71it/s] \n",
      "epoch:145 loss:0.008511335588991642: 100%|██████████| 59/59 [00:02<00:00, 22.69it/s] \n",
      "epoch:146 loss:0.00892894621938467: 100%|██████████| 59/59 [00:02<00:00, 29.19it/s]  \n",
      "epoch:147 loss:0.00646278727799654: 100%|██████████| 59/59 [00:02<00:00, 25.27it/s]  \n",
      "epoch:148 loss:0.005860408768057823: 100%|██████████| 59/59 [00:02<00:00, 22.50it/s] \n",
      "epoch:149 loss:0.011159272864460945: 100%|██████████| 59/59 [00:03<00:00, 15.90it/s] \n",
      "epoch:150 loss:0.008886485360562801: 100%|██████████| 59/59 [00:03<00:00, 16.53it/s] \n",
      "epoch:151 loss:0.012600233778357506: 100%|██████████| 59/59 [00:02<00:00, 27.81it/s] \n",
      "epoch:152 loss:0.008063293062150478: 100%|██████████| 59/59 [00:02<00:00, 22.10it/s] \n",
      "epoch:153 loss:0.007778659462928772: 100%|██████████| 59/59 [00:04<00:00, 11.81it/s] \n",
      "epoch:154 loss:0.006932979915291071: 100%|██████████| 59/59 [00:04<00:00, 12.68it/s] \n",
      "epoch:155 loss:0.006770504638552666: 100%|██████████| 59/59 [00:03<00:00, 17.82it/s] \n",
      "epoch:156 loss:0.006470761727541685: 100%|██████████| 59/59 [00:03<00:00, 18.82it/s] \n",
      "epoch:157 loss:0.006691935006529093: 100%|██████████| 59/59 [00:02<00:00, 25.59it/s] \n",
      "epoch:158 loss:0.006900865584611893: 100%|██████████| 59/59 [00:02<00:00, 23.24it/s] \n",
      "epoch:159 loss:0.006776819471269846: 100%|██████████| 59/59 [00:01<00:00, 29.80it/s] \n",
      "epoch:160 loss:0.005730783566832542: 100%|██████████| 59/59 [00:02<00:00, 26.88it/s] \n",
      "epoch:161 loss:0.005809224210679531: 100%|██████████| 59/59 [00:02<00:00, 25.60it/s] \n",
      "epoch:162 loss:0.0065240757539868355: 100%|██████████| 59/59 [00:02<00:00, 26.71it/s]\n",
      "epoch:163 loss:0.006322742905467749: 100%|██████████| 59/59 [00:01<00:00, 30.54it/s] \n",
      "epoch:164 loss:0.009070632047951221: 100%|██████████| 59/59 [00:02<00:00, 29.30it/s] \n",
      "epoch:165 loss:0.0061791096813976765: 100%|██████████| 59/59 [00:02<00:00, 26.83it/s]\n",
      "epoch:166 loss:0.009834367781877518: 100%|██████████| 59/59 [00:02<00:00, 23.61it/s] \n",
      "epoch:167 loss:0.006812915205955505: 100%|██████████| 59/59 [00:01<00:00, 29.81it/s] \n",
      "epoch:168 loss:0.008362933062016964: 100%|██████████| 59/59 [00:01<00:00, 33.21it/s]  \n",
      "epoch:169 loss:0.013624373823404312: 100%|██████████| 59/59 [00:02<00:00, 26.09it/s] \n",
      "epoch:170 loss:0.007998377084732056: 100%|██████████| 59/59 [00:05<00:00,  9.95it/s] \n",
      "epoch:171 loss:0.013499944470822811: 100%|██████████| 59/59 [00:05<00:00, 11.56it/s] \n",
      "epoch:172 loss:0.01041552983224392: 100%|██████████| 59/59 [00:04<00:00, 14.11it/s]  \n",
      "epoch:173 loss:0.012540980242192745: 100%|██████████| 59/59 [00:03<00:00, 16.53it/s] \n",
      "epoch:174 loss:0.006095041986554861: 100%|██████████| 59/59 [00:03<00:00, 16.98it/s] \n",
      "epoch:175 loss:0.012002904899418354: 100%|██████████| 59/59 [00:03<00:00, 17.02it/s] \n",
      "epoch:176 loss:0.016925955191254616: 100%|██████████| 59/59 [00:03<00:00, 15.17it/s] \n",
      "epoch:177 loss:0.007679990027099848: 100%|██████████| 59/59 [00:03<00:00, 16.32it/s] \n",
      "epoch:178 loss:0.007751291152089834: 100%|██████████| 59/59 [00:03<00:00, 17.05it/s] \n",
      "epoch:179 loss:0.0057909926399588585: 100%|██████████| 59/59 [00:03<00:00, 16.24it/s]\n",
      "epoch:180 loss:0.0057946681044995785: 100%|██████████| 59/59 [00:03<00:00, 16.76it/s]\n",
      "epoch:181 loss:0.005699303932487965: 100%|██████████| 59/59 [00:03<00:00, 17.40it/s] \n",
      "epoch:182 loss:0.01781368814408779: 100%|██████████| 59/59 [00:03<00:00, 17.81it/s]  \n",
      "epoch:183 loss:0.010471063666045666: 100%|██████████| 59/59 [00:03<00:00, 14.76it/s] \n",
      "epoch:184 loss:0.008500336669385433: 100%|██████████| 59/59 [00:03<00:00, 16.70it/s] \n",
      "epoch:185 loss:0.010876601561903954: 100%|██████████| 59/59 [00:03<00:00, 16.65it/s]  \n",
      "epoch:186 loss:0.007428489159792662: 100%|██████████| 59/59 [00:03<00:00, 17.05it/s] \n",
      "epoch:187 loss:0.005955851636826992: 100%|██████████| 59/59 [00:04<00:00, 14.70it/s] \n",
      "epoch:188 loss:0.005799284670501947: 100%|██████████| 59/59 [00:03<00:00, 16.37it/s] \n",
      "epoch:189 loss:0.008127368986606598: 100%|██████████| 59/59 [00:03<00:00, 16.19it/s]  \n",
      "epoch:190 loss:0.008481564931571484: 100%|██████████| 59/59 [00:03<00:00, 16.37it/s] \n",
      "epoch:191 loss:0.005827826447784901: 100%|██████████| 59/59 [00:03<00:00, 17.37it/s] \n",
      "epoch:192 loss:0.006382432766258717: 100%|██████████| 59/59 [00:03<00:00, 17.21it/s] \n",
      "epoch:193 loss:0.007049050647765398: 100%|██████████| 59/59 [00:03<00:00, 17.65it/s] \n",
      "epoch:194 loss:0.006366543006151915: 100%|██████████| 59/59 [00:04<00:00, 14.56it/s]\n",
      "epoch:195 loss:0.009440232068300247: 100%|██████████| 59/59 [00:03<00:00, 16.47it/s] \n",
      "epoch:196 loss:0.009241289459168911: 100%|██████████| 59/59 [00:03<00:00, 16.64it/s] \n",
      "epoch:197 loss:0.005699044559150934: 100%|██████████| 59/59 [00:03<00:00, 17.72it/s] \n",
      "epoch:198 loss:0.008064983412623405: 100%|██████████| 59/59 [00:04<00:00, 12.78it/s] \n",
      "epoch:199 loss:0.0076872860081493855: 100%|██████████| 59/59 [00:03<00:00, 15.81it/s]\n",
      "epoch:200 loss:0.006555971689522266: 100%|██████████| 59/59 [00:03<00:00, 16.66it/s] \n"
     ]
    }
   ],
   "source": [
    "from tqdm import tqdm\n",
    "# criterian = nn.MSELoss()\n",
    "for epoch in range(200):\n",
    "    loop = tqdm(loader)\n",
    "    for data, label in loop:\n",
    "        optim.zero_grad()\n",
    "        # 초기 은닉상태의 배치크기는 DataLoader가 주는 배치 크기\n",
    "        batch_size = data.size(0)\n",
    "\n",
    "        ho = torch.zeros(5,batch_size,8).to(device)\n",
    "        # 모델의 예측값\n",
    "        pred = model(data.to(device), ho)\n",
    "        # 손실값\n",
    "        loss = nn.MSELoss()(pred, label.to(device))\n",
    "        loss.backward()\n",
    "        optim.step()\n",
    "\n",
    "        loop.set_description(f'epoch:{epoch+1} loss:{loss.item()}')\n",
    "torch.save(model.state_dict(), './rnn.pth')"
   ]
  },
  {
   "cell_type": "code",
   "execution_count": 44,
   "id": "0e8b30d1",
   "metadata": {},
   "outputs": [
    {
     "name": "stderr",
     "output_type": "stream",
     "text": [
      "c:\\Users\\sally\\SKNPYWORKSPACE\\streamlit\\Lib\\site-packages\\torch\\nn\\modules\\loss.py:634: UserWarning: Using a target size (torch.Size([1, 1])) that is different to the input size (torch.Size([1])). This will likely lead to incorrect results due to broadcasting. Please ensure they have the same size.\n",
      "  return F.mse_loss(input, target, reduction=self.reduction)\n"
     ]
    },
    {
     "name": "stdout",
     "output_type": "stream",
     "text": [
      "total_loss : 0.0124\n"
     ]
    }
   ],
   "source": [
    "# 모델 성능평가하기\n",
    "import matplotlib.pyplot as plt\n",
    "\n",
    "loader = DataLoader(dataset,batch_size=1)\n",
    "preds = []\n",
    "total_loss = 0\n",
    "with torch.no_grad():\n",
    "    model.load_state_dict(torch.load('rnn.pth', map_location=device,weights_only=False))\n",
    "    for data, label in loader:\n",
    "        # 초기 은닉상태의 배치크기는 DataLoader가 주는 배치 크기\n",
    "        batch_size = data.size(0)\n",
    "\n",
    "        ho = torch.zeros(5,batch_size,8).to(device)\n",
    "        # 모델의 예측값\n",
    "        pred = model(data.to(device), ho)\n",
    "        preds.append(pred.item())\n",
    "        # 손실값\n",
    "        loss = nn.MSELoss()(pred, label.to(device))\n",
    "        total_loss += (loss.item() / len(loader))\n",
    "\n",
    "print(f'total_loss : {total_loss:.4f}')"
   ]
  },
  {
   "cell_type": "code",
   "execution_count": 45,
   "id": "db15dec9",
   "metadata": {},
   "outputs": [
    {
     "data": {
      "image/png": "[encoded data removed]",
      "text/plain": [
       "<Figure size 1200x500 with 1 Axes>"
      ]
     },
     "metadata": {},
     "output_type": "display_data"
    }
   ],
   "source": [
    "plt.figure(figsize=(12,5))\n",
    "plt.plot(preds,label='preds')\n",
    "plt.plot(dataset.label[30:], label = 'real')\n",
    "plt.legend()\n",
    "plt.show() "
   ]
  },
  {
   "cell_type": "code",
   "execution_count": null,
   "id": "e25cf1e0",
   "metadata": {},
   "outputs": [],
   "source": [
    "with torch.no_grad():\n",
    "    last_30 = df.iloc[-30:,1:-1].values\n",
    "\n",
    "    X = torch.tensor(last_30,dtype=torch.float32).unsqueeze(0)\n",
    "    ho = torch.zeros(5,1,8).to(device)\n",
    "    print(ho)"
   ]
  },
  {
   "cell_type": "code",
   "execution_count": null,
   "id": "022497c6",
   "metadata": {},
   "outputs": [],
   "source": [
    "(5,1,8).to(device)"
   ]
  }
 ],
 "metadata": {
  "kernelspec": {
   "display_name": "streamlit",
   "language": "python",
   "name": "python3"
  },
  "language_info": {
   "codemirror_mode": {
    "name": "ipython",
    "version": 3
   },
   "file_extension": ".py",
   "mimetype": "text/x-python",
   "name": "python",
   "nbconvert_exporter": "python",
   "pygments_lexer": "ipython3",
   "version": "3.13.7"
  }
 },
 "nbformat": 4,
 "nbformat_minor": 5
}
