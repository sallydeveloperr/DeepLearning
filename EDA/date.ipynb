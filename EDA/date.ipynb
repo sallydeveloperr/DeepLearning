{
 "cells": [
  {
   "cell_type": "code",
   "execution_count": 10,
   "id": "3fda0da5",
   "metadata": {},
   "outputs": [
    {
     "data": {
      "text/html": [
       "<div>\n",
       "<style scoped>\n",
       "    .dataframe tbody tr th:only-of-type {\n",
       "        vertical-align: middle;\n",
       "    }\n",
       "\n",
       "    .dataframe tbody tr th {\n",
       "        vertical-align: top;\n",
       "    }\n",
       "\n",
       "    .dataframe thead th {\n",
       "        text-align: right;\n",
       "    }\n",
       "</style>\n",
       "<table border=\"1\" class=\"dataframe\">\n",
       "  <thead>\n",
       "    <tr style=\"text-align: right;\">\n",
       "      <th></th>\n",
       "      <th>date</th>\n",
       "      <th>year</th>\n",
       "      <th>month</th>\n",
       "      <th>day_int</th>\n",
       "      <th>day_str</th>\n",
       "      <th>day_weekend</th>\n",
       "    </tr>\n",
       "  </thead>\n",
       "  <tbody>\n",
       "    <tr>\n",
       "      <th>0</th>\n",
       "      <td>2025-01-01</td>\n",
       "      <td>2025</td>\n",
       "      <td>1</td>\n",
       "      <td>2</td>\n",
       "      <td>수</td>\n",
       "      <td>0</td>\n",
       "    </tr>\n",
       "    <tr>\n",
       "      <th>1</th>\n",
       "      <td>2025-01-03</td>\n",
       "      <td>2025</td>\n",
       "      <td>1</td>\n",
       "      <td>4</td>\n",
       "      <td>금</td>\n",
       "      <td>0</td>\n",
       "    </tr>\n",
       "    <tr>\n",
       "      <th>2</th>\n",
       "      <td>2025-01-06</td>\n",
       "      <td>2025</td>\n",
       "      <td>1</td>\n",
       "      <td>0</td>\n",
       "      <td>월</td>\n",
       "      <td>0</td>\n",
       "    </tr>\n",
       "    <tr>\n",
       "      <th>3</th>\n",
       "      <td>2025-01-09</td>\n",
       "      <td>2025</td>\n",
       "      <td>1</td>\n",
       "      <td>3</td>\n",
       "      <td>목</td>\n",
       "      <td>0</td>\n",
       "    </tr>\n",
       "    <tr>\n",
       "      <th>4</th>\n",
       "      <td>2025-01-12</td>\n",
       "      <td>2025</td>\n",
       "      <td>1</td>\n",
       "      <td>6</td>\n",
       "      <td>일</td>\n",
       "      <td>1</td>\n",
       "    </tr>\n",
       "  </tbody>\n",
       "</table>\n",
       "</div>"
      ],
      "text/plain": [
       "        date  year  month  day_int day_str  day_weekend\n",
       "0 2025-01-01  2025      1        2       수            0\n",
       "1 2025-01-03  2025      1        4       금            0\n",
       "2 2025-01-06  2025      1        0       월            0\n",
       "3 2025-01-09  2025      1        3       목            0\n",
       "4 2025-01-12  2025      1        6       일            1"
      ]
     },
     "execution_count": 10,
     "metadata": {},
     "output_type": "execute_result"
    }
   ],
   "source": [
    "import pandas as pd\n",
    "# 라이브러리 불러오기\n",
    "import pandas as pd\n",
    "\n",
    "# Timestamp의 배열 만들기 - 월 간격, 월의 시작일 기준\n",
    "ts_ms = pd.date_range(start='2025-01-01',    # 날짜 범위의 시작\n",
    "                   end='2025-10-02',                 # 날짜 범위의 끝\n",
    "                   periods=100,                # 생성할 Timestamp의 개수\n",
    "                #    freq='MS',                # 시간 간격 (MS: 월의 시작일)\n",
    "                   tz='Asia/Seoul')          # 시간대(timezone)\n",
    "\n",
    "\n",
    "data = { 'date': ts_ms.strftime('%Y-%m-%d')}\n",
    "df = pd.DataFrame(data)\n",
    "df['date'] = pd.to_datetime(df.date)\n",
    "# df.info()\n",
    "# 년도를 추출해서 새로운 컬럼으로 넣기\n",
    "df['year'] = df.date.dt.year\n",
    "df['month'] = df.date.dt.month\n",
    "df['day_int'] = df.date.dt.weekday  #0 월요일\n",
    "def convert_week(x):\n",
    "    temp = ['월','화','수','목','금','토','일']\n",
    "    return temp[x]\n",
    "df['day_str'] = df['day_int'].apply(lambda x : convert_week(x))\n",
    "\n",
    "# 주말(토일)은 1 나머지는 0\n",
    "df['day_weekend'] = df['day_str'].apply(lambda x : 1 if x in ['토','일'] else 0)\n",
    "df.head()"
   ]
  },
  {
   "cell_type": "code",
   "execution_count": 11,
   "id": "f8cad460",
   "metadata": {},
   "outputs": [
    {
     "name": "stdout",
     "output_type": "stream",
     "text": [
      "Requirement already satisfied: holidays in c:\\users\\sally\\sknpyworkspace\\streamlit\\lib\\site-packages (0.81)\n",
      "Requirement already satisfied: python-dateutil in c:\\users\\sally\\sknpyworkspace\\streamlit\\lib\\site-packages (from holidays) (2.9.0.post0)\n",
      "Requirement already satisfied: six>=1.5 in c:\\users\\sally\\sknpyworkspace\\streamlit\\lib\\site-packages (from python-dateutil->holidays) (1.17.0)\n",
      "Note: you may need to restart the kernel to use updated packages.\n"
     ]
    }
   ],
   "source": [
    "%pip install holidays"
   ]
  },
  {
   "cell_type": "code",
   "execution_count": 15,
   "id": "d1c64503",
   "metadata": {},
   "outputs": [
    {
     "name": "stdout",
     "output_type": "stream",
     "text": [
      "2025-01-01  신정연휴\n",
      "2025-01-27  임시공휴일\n",
      "2025-01-28  설날 전날\n",
      "2025-01-29  설날\n",
      "2025-01-30  설날 다음날\n",
      "2025-03-01  민지생일; 삼일절\n",
      "2025-03-03  삼일절 대체 휴일\n",
      "2025-05-05  부처님오신날; 어린이날\n",
      "2025-05-06  부처님오신날 대체 휴일; 어린이날 대체 휴일\n",
      "2025-06-03  대통령 선거일\n",
      "2025-06-06  현충일\n",
      "2025-08-15  광복절\n",
      "2025-10-03  개천절\n",
      "2025-10-05  추석 전날\n",
      "2025-10-06  추석\n",
      "2025-10-07  추석 다음날\n",
      "2025-10-08  추석 대체 휴일\n",
      "2025-10-09  한글날\n",
      "2025-10-10  휴강\n",
      "2025-12-25  기독탄신일\n"
     ]
    }
   ],
   "source": [
    "import holidays\n",
    "kr_holidays = holidays.KR(years = [2025])\n",
    "kr_holidays.append({\n",
    "    '2025-10-10' : '휴강'\n",
    "})\n",
    "kr_holidays.append({\n",
    "    '2025-03-01' : '민지생일'\n",
    "})\n",
    "kr_holidays = sorted(kr_holidays.items(), key=lambda x : x[0])\n",
    "for key,value in kr_holidays:\n",
    "    print(f'{key}  {value}')"
   ]
  },
  {
   "cell_type": "code",
   "execution_count": 16,
   "id": "017493ac",
   "metadata": {},
   "outputs": [
    {
     "data": {
      "text/plain": [
       "datetime.date(2025, 1, 1)"
      ]
     },
     "execution_count": 16,
     "metadata": {},
     "output_type": "execute_result"
    }
   ],
   "source": [
    "kr_holidays[0][0]"
   ]
  },
  {
   "cell_type": "code",
   "execution_count": 17,
   "id": "d6a23663",
   "metadata": {},
   "outputs": [
    {
     "data": {
      "text/plain": [
       "Timestamp('2025-01-01 00:00:00')"
      ]
     },
     "execution_count": 17,
     "metadata": {},
     "output_type": "execute_result"
    }
   ],
   "source": [
    "df['date'][0]"
   ]
  },
  {
   "cell_type": "code",
   "execution_count": null,
   "id": "d80d16f4",
   "metadata": {},
   "outputs": [],
   "source": [
    "#holiday : 1, not 0\n",
    "df['is_holiday'] = 0\n",
    "df.head()"
   ]
  }
 ],
 "metadata": {
  "kernelspec": {
   "display_name": "streamlit",
   "language": "python",
   "name": "python3"
  },
  "language_info": {
   "codemirror_mode": {
    "name": "ipython",
    "version": 3
   },
   "file_extension": ".py",
   "mimetype": "text/x-python",
   "name": "python",
   "nbconvert_exporter": "python",
   "pygments_lexer": "ipython3",
   "version": "3.13.7"
  }
 },
 "nbformat": 4,
 "nbformat_minor": 5
}
