{
 "cells": [
  {
   "cell_type": "code",
   "execution_count": null,
   "id": "49f9ac25",
   "metadata": {},
   "outputs": [],
   "source": [
    "# 데이터 전처리\n",
    "# 데이터 특성공학 : 연속형 -> 범주형, 시간정보는 1-2 23 0\n",
    "    #범주형을 숫자 숫자사이에 연관성이 있으면 이것도 학습\n",
    "    # 연관성이 전혀 없는 범주형 라벨링 - onehot\n",
    "    # 범주형이지만 순서나 크기가 있는 범주형은 라벨링 그대로 유지\n",
    "\n",
    "\n",
    "# 머신러닝\n",
    "# 지도학습  \n",
    "    # 회귀\n",
    "        # linearRegression\n",
    "    # 분류\n",
    "        # Svm(Support Vector Machine),Kneighbors, decisionTree\n",
    "# 비지도학습\n",
    "    # 클러스터\n",
    "        # kmeans dbscan"
   ]
  }
 ],
 "metadata": {
  "language_info": {
   "name": "python"
  }
 },
 "nbformat": 4,
 "nbformat_minor": 5
}
