{
 "cells": [
  {
   "cell_type": "markdown",
   "id": "a2416f70",
   "metadata": {},
   "source": [
    "#### 이탈 고객 예측"
   ]
  },
  {
   "cell_type": "markdown",
   "id": "1320365d",
   "metadata": {},
   "source": [
    "#### 데이터 전처리(결측치처리, 클래스 불균형 확인 및 처리)\n",
    "#### 특성공학 - 피처선정 또는 피처생성\n",
    "##### 베이스 모델선정\n",
    "    - 분류모델 : LogisticRegression\n",
    "    - 클래스 리포트, 과적합여부\n",
    "##### 베이스 모델의 성능을 상회하는 모델과 하이퍼 파라메터 조합을 찾아서 성능을 출력"
   ]
  },
  {
   "cell_type": "code",
   "execution_count": 2,
   "id": "c8bc9210",
   "metadata": {},
   "outputs": [],
   "source": [
    "import pandas as pd\n",
    "url = 'https://raw.githubusercontent.com/pia222sk20/python/refs/heads/main/data/tellecom.csv'\n",
    "df = pd.read_csv(url)\n"
   ]
  }
 ],
 "metadata": {
  "kernelspec": {
   "display_name": "streamlit",
   "language": "python",
   "name": "python3"
  },
  "language_info": {
   "codemirror_mode": {
    "name": "ipython",
    "version": 3
   },
   "file_extension": ".py",
   "mimetype": "text/x-python",
   "name": "python",
   "nbconvert_exporter": "python",
   "pygments_lexer": "ipython3",
   "version": "3.13.7"
  }
 },
 "nbformat": 4,
 "nbformat_minor": 5
}
