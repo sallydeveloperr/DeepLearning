{
 "cells": [
  {
   "cell_type": "code",
   "execution_count": 7,
   "id": "bc1ac818",
   "metadata": {},
   "outputs": [
    {
     "name": "stdout",
     "output_type": "stream",
     "text": [
      "악성 양성의 오리지널 비율 : (array([0, 1]), array([212, 357]))\n",
      "클래스 분포 : \n",
      "클래스 0 : 63개 (15.0%)\n",
      "클래스 1 : 357개 (85.0%)\n",
      "1. 기본 모델 (불균형 무시)\n",
      "              precision    recall  f1-score   support\n",
      "\n",
      "          양성       1.00      1.00      1.00        13\n",
      "          악성       1.00      1.00      1.00        71\n",
      "\n",
      "    accuracy                           1.00        84\n",
      "   macro avg       1.00      1.00      1.00        84\n",
      "weighted avg       1.00      1.00      1.00        84\n",
      "\n"
     ]
    }
   ],
   "source": [
    "# 불균형 데이터 생성(1:9) 악성:양성\n",
    "from sklearn.datasets import load_breast_cancer\n",
    "import numpy as np\n",
    "from sklearn.pipeline import Pipeline\n",
    "np.random.seed(42)\n",
    "\n",
    "data = load_breast_cancer()\n",
    "X,y = data.data, data.target\n",
    "# 악성을 소수 클래스로 생성\n",
    "\n",
    "print(f'악성 양성의 오리지널 비율 : {np.unique(y, return_counts = True)}')\n",
    "m_index = np.where(y ==0)[0] #where는 0이 되는 인덱스(악성)를 반환\n",
    "b_index = np.where(y ==1)[0] \n",
    "\n",
    "# 악성은 일부만, 양성은 더 많이 사용\n",
    "# 악성의 30%만 사용, 양성은 전체 1:9\n",
    "size_30 = int(len(m_index)*0.3)\n",
    "selected_m_index = np.random.choice(m_index,size=size_30, replace=False)\n",
    "selected_b_index = b_index\n",
    "\n",
    "# 섞어주기\n",
    "concatenate_selected_index = np.concatenate([selected_m_index, selected_b_index])\n",
    "np.random.shuffle(concatenate_selected_index)\n",
    "\n",
    "X_imb = X[concatenate_selected_index]\n",
    "y_imb = y[concatenate_selected_index]\n",
    "\n",
    "# 클래스 분포 확인\n",
    "unique,counts = np.unique(y_imb, return_counts = True)\n",
    "print('클래스 분포 : ')\n",
    "for label, count in zip(unique, counts):\n",
    "    percentage = count / len(y_imb) * 100\n",
    "    print(f'클래스 {label} : {count}개 ({percentage:.1f}%)')\n",
    "\n",
    "# 불균형을 무시하고 모델의 성능 평가 진행\n",
    "# 스케일링 정규화 StandardScaler\n",
    "# LogisticRegression\n",
    "# pipe\n",
    "# 평가는 class report\n",
    "from sklearn.preprocessing import StandardScaler\n",
    "from sklearn.linear_model import LogisticRegression\n",
    "from sklearn.model_selection import train_test_split\n",
    "from sklearn.metrics import classification_report\n",
    "x_train, x_test, y_train, y_test = train_test_split(X_imb, y_imb, stratify=y_imb, test_size=0.2, random_state=42)\n",
    "print('1. 기본 모델 (불균형 무시)')\n",
    "pipe = Pipeline([\n",
    "    ('scaler', StandardScaler()),\n",
    "    ('clf', LogisticRegression(random_state=42, max_iter=1000))\n",
    "])\n",
    "pipe.fit(x_train,y_train)\n",
    "print( classification_report(y_test, pipe.predict(x_test), target_names=['양성', '악성']) )\n"
   ]
  },
  {
   "cell_type": "code",
   "execution_count": 8,
   "id": "f44d9011",
   "metadata": {},
   "outputs": [
    {
     "name": "stdout",
     "output_type": "stream",
     "text": [
      "불균형 해결 : 클래스 가중치 사용\n",
      "              precision    recall  f1-score   support\n",
      "\n",
      "           0       1.00      1.00      1.00        13\n",
      "           1       1.00      1.00      1.00        71\n",
      "\n",
      "    accuracy                           1.00        84\n",
      "   macro avg       1.00      1.00      1.00        84\n",
      "weighted avg       1.00      1.00      1.00        84\n",
      "\n",
      "가중치 계산\n",
      "클래스 : 0 : 3.360\n",
      "클래스 : 1 : 0.587\n"
     ]
    }
   ],
   "source": [
    "print('불균형 해결 : 클래스 가중치 사용')\n",
    "# 기존 파이프라인의 clf 이름의 객체 파라메터를 조정\n",
    "from copy import deepcopy\n",
    "#pipe_weight = deepcopy(pipe)\n",
    "#pipe.set_params(clf__class_weight = 'balanced')\n",
    "\n",
    "pipe_weight = Pipeline([\n",
    "    ('scaler', StandardScaler()),\n",
    "    ('clf', LogisticRegression(random_state=42, max_iter=1000, class_weight='balanced'))\n",
    "])\n",
    "\n",
    "pipe_weight.fit(x_train, y_train)\n",
    "print( classification_report(y_test, pipe_weight.predict(x_test)))\n",
    "\n",
    "print(\"가중치 계산\")\n",
    "n_samples = len(y_train)\n",
    "n_classes = 2\n",
    "class_counts = np.bincount(y_train)\n",
    "for i in range(n_classes):\n",
    "    weight = n_samples / (n_classes * class_counts[i])\n",
    "    print(f'클래스 : {i} : {weight:.3f}')\n",
    "    "
   ]
  },
  {
   "cell_type": "code",
   "execution_count": null,
   "id": "8e499e0e",
   "metadata": {},
   "outputs": [
    {
     "name": "stdout",
     "output_type": "stream",
     "text": [
      "불균형 : RandsomFores (균형모드)\n",
      "              precision    recall  f1-score   support\n",
      "\n",
      "           0       0.93      1.00      0.96        13\n",
      "           1       1.00      0.99      0.99        71\n",
      "\n",
      "    accuracy                           0.99        84\n",
      "   macro avg       0.96      0.99      0.98        84\n",
      "weighted avg       0.99      0.99      0.99        84\n",
      "\n"
     ]
    }
   ],
   "source": [
    "from sklearn.ensemble import RandomForestClassifier\n",
    "print('불균형 : RandsomFores (균형모드)')\n",
    "pipe_rf = Pipeline([\n",
    "    ('scaler', StandardScaler()),\n",
    "    ('clf', RandomForestClassifier(class_weight='balanced', random_state=42))\n",
    "])\n",
    "pipe_rf.fit(x_train, y_train)\n",
    "y_pred = pipe_rf.predict(x_test)\n",
    "print( classification_report(y_test, y_pred))"
   ]
  },
  {
   "cell_type": "code",
   "execution_count": null,
   "id": "99643b7b",
   "metadata": {},
   "outputs": [],
   "source": [
    "# 오버 or 언더 샘플링 - 직접 실행 SMOTE, SMOTEEN 둘다 써보기\n"
   ]
  }
 ],
 "metadata": {
  "kernelspec": {
   "display_name": "streamlit",
   "language": "python",
   "name": "python3"
  },
  "language_info": {
   "codemirror_mode": {
    "name": "ipython",
    "version": 3
   },
   "file_extension": ".py",
   "mimetype": "text/x-python",
   "name": "python",
   "nbconvert_exporter": "python",
   "pygments_lexer": "ipython3",
   "version": "3.13.7"
  }
 },
 "nbformat": 4,
 "nbformat_minor": 5
}
